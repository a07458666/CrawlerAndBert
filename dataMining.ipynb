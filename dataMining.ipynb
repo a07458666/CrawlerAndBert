{
  "nbformat": 4,
  "nbformat_minor": 0,
  "metadata": {
    "language_info": {
      "codemirror_mode": {
        "name": "ipython",
        "version": 3
      },
      "file_extension": ".py",
      "mimetype": "text/x-python",
      "name": "python",
      "nbconvert_exporter": "python",
      "pygments_lexer": "ipython3",
      "version": "3.7.4-final"
    },
    "orig_nbformat": 2,
    "kernelspec": {
      "name": "python37464bitbaseconda1c305fe59c07462d89243a67d7cd60ae",
      "display_name": "Python 3.7.4 64-bit ('base': conda)"
    },
    "colab": {
      "name": "「dataMining.ipynb」的副本",
      "provenance": [],
      "include_colab_link": true
    }
  },
  "cells": [
    {
      "cell_type": "markdown",
      "metadata": {
        "id": "view-in-github",
        "colab_type": "text"
      },
      "source": [
        "<a href=\"https://colab.research.google.com/github/a07458666/CrawlerAndBert/blob/master/dataMining.ipynb\" target=\"_parent\"><img src=\"https://colab.research.google.com/assets/colab-badge.svg\" alt=\"Open In Colab\"/></a>"
      ]
    },
    {
      "cell_type": "code",
      "metadata": {
        "id": "gXCw3Gwyuk95",
        "colab_type": "code",
        "colab": {}
      },
      "source": [
        "import os\n",
        "import re\n",
        "import numpy as np\n",
        "import pandas as pd\n",
        "from google.colab import drive\n",
        "from tqdm import tqdm\n",
        "\n",
        "#crawler\n",
        "import requests\n",
        "from bs4 import BeautifulSoup"
      ],
      "execution_count": null,
      "outputs": []
    },
    {
      "cell_type": "code",
      "metadata": {
        "id": "wqzCy5sfuk98",
        "colab_type": "code",
        "colab": {
          "base_uri": "https://localhost:8080/",
          "height": 122
        },
        "outputId": "b23cc67a-729e-4ed1-a3e8-1abae08132c1"
      },
      "source": [
        "drive.mount('/content/drive')\n",
        "os.chdir(r\"/content/drive/My Drive/tbrainData/\")\n",
        "# 讀入官方的data\n",
        "df = pd.read_csv('tbrain_train_final_0610.csv')  "
      ],
      "execution_count": null,
      "outputs": [
        {
          "output_type": "stream",
          "text": [
            "Go to this URL in a browser: https://accounts.google.com/o/oauth2/auth?client_id=947318989803-6bn6qk8qdgf4n4g3pfee6491hc0brc4i.apps.googleusercontent.com&redirect_uri=urn%3aietf%3awg%3aoauth%3a2.0%3aoob&scope=email%20https%3a%2f%2fwww.googleapis.com%2fauth%2fdocs.test%20https%3a%2f%2fwww.googleapis.com%2fauth%2fdrive%20https%3a%2f%2fwww.googleapis.com%2fauth%2fdrive.photos.readonly%20https%3a%2f%2fwww.googleapis.com%2fauth%2fpeopleapi.readonly&response_type=code\n",
            "\n",
            "Enter your authorization code:\n",
            "4/3wGEaf-w42sOYwCavbxMyiU6hUS2FmoOIOeSmQvj9dCipWNkvITnt-g\n",
            "Mounted at /content/drive\n"
          ],
          "name": "stdout"
        }
      ]
    },
    {
      "cell_type": "code",
      "metadata": {
        "tags": [],
        "id": "l9iratieuk9_",
        "colab_type": "code",
        "colab": {
          "base_uri": "https://localhost:8080/",
          "height": 359
        },
        "outputId": "8af31a21-537f-444f-807e-a17f6e1fb8f5"
      },
      "source": [
        "df[0:10]"
      ],
      "execution_count": null,
      "outputs": [
        {
          "output_type": "execute_result",
          "data": {
            "text/html": [
              "<div>\n",
              "<style scoped>\n",
              "    .dataframe tbody tr th:only-of-type {\n",
              "        vertical-align: middle;\n",
              "    }\n",
              "\n",
              "    .dataframe tbody tr th {\n",
              "        vertical-align: top;\n",
              "    }\n",
              "\n",
              "    .dataframe thead th {\n",
              "        text-align: right;\n",
              "    }\n",
              "</style>\n",
              "<table border=\"1\" class=\"dataframe\">\n",
              "  <thead>\n",
              "    <tr style=\"text-align: right;\">\n",
              "      <th></th>\n",
              "      <th>news_ID</th>\n",
              "      <th>hyperlink</th>\n",
              "      <th>content</th>\n",
              "      <th>name</th>\n",
              "    </tr>\n",
              "  </thead>\n",
              "  <tbody>\n",
              "    <tr>\n",
              "      <th>0</th>\n",
              "      <td>1</td>\n",
              "      <td>https://news.cnyes.com/news/id/4352432</td>\n",
              "      <td>0理財基金量化交易追求絕對報酬有效對抗牛熊市鉅亨網記者鄭心芸2019/07/05 22:35...</td>\n",
              "      <td>[]</td>\n",
              "    </tr>\n",
              "    <tr>\n",
              "      <th>1</th>\n",
              "      <td>2</td>\n",
              "      <td>https://udn.com/news/story/120775/4112519</td>\n",
              "      <td>10月13日晚間發生Uber Eats黃姓外送人員職災死亡案件 ### 省略內文 ### 北...</td>\n",
              "      <td>[]</td>\n",
              "    </tr>\n",
              "    <tr>\n",
              "      <th>2</th>\n",
              "      <td>3</td>\n",
              "      <td>https://www.mirrormedia.mg/story/20191008soc011/</td>\n",
              "      <td>2019.10.08 01:53【法拍有詭4】飯店遭管委會斷水斷電員工怒吼：生計何去何從？文...</td>\n",
              "      <td>[]</td>\n",
              "    </tr>\n",
              "    <tr>\n",
              "      <th>3</th>\n",
              "      <td>4</td>\n",
              "      <td>https://www.chinatimes.com/realtimenews/201909...</td>\n",
              "      <td>58歲林姓男子昨凌晨與朋友聚餐結束後 ### 省略內文 ### 而地點就距離林家僅30公尺。...</td>\n",
              "      <td>[]</td>\n",
              "    </tr>\n",
              "    <tr>\n",
              "      <th>4</th>\n",
              "      <td>5</td>\n",
              "      <td>http://domestic.judicial.gov.tw/abbs/wkw/WHD9H...</td>\n",
              "      <td>例稿名稱：臺灣屏東地方法院公示催告公告發文日期：中華民國108年9月20日發文字號：屏院進家...</td>\n",
              "      <td>[]</td>\n",
              "    </tr>\n",
              "    <tr>\n",
              "      <th>5</th>\n",
              "      <td>6</td>\n",
              "      <td>http://www.coolloud.org.tw/node/93356</td>\n",
              "      <td>內政部都市計畫委員會委員為審查大社工業區是否降為乙種工業區 ### 省略內文 ### 市區拒...</td>\n",
              "      <td>[]</td>\n",
              "    </tr>\n",
              "    <tr>\n",
              "      <th>6</th>\n",
              "      <td>7</td>\n",
              "      <td>https://m.ctee.com.tw/livenews/gj/ctee/a076720...</td>\n",
              "      <td>華為創辦人任正非接受英國媒體訪問時表示 ### 省略內文 ### 重申中國和加拿大兩國之間的...</td>\n",
              "      <td>[]</td>\n",
              "    </tr>\n",
              "    <tr>\n",
              "      <th>7</th>\n",
              "      <td>8</td>\n",
              "      <td>https://www.mirrormedia.mg/story/20191209edi009/</td>\n",
              "      <td>2019.12.09 08:00「再教育營學員全已結業」新疆自治區主席：他們過上了幸福生活文...</td>\n",
              "      <td>[]</td>\n",
              "    </tr>\n",
              "    <tr>\n",
              "      <th>8</th>\n",
              "      <td>9</td>\n",
              "      <td>https://www.chinatimes.com/newspapers/20190827...</td>\n",
              "      <td>交通部觀光局26日公布7月國際旅客情況 ### 省略內文 ### 只能長期培養。</td>\n",
              "      <td>[]</td>\n",
              "    </tr>\n",
              "    <tr>\n",
              "      <th>9</th>\n",
              "      <td>10</td>\n",
              "      <td>https://news.cnyes.com/news/id/4365094</td>\n",
              "      <td>0理財基金基金汰弱留強該怎麼做？鉅亨買基金2019/08/06 21:30facebook ...</td>\n",
              "      <td>[]</td>\n",
              "    </tr>\n",
              "  </tbody>\n",
              "</table>\n",
              "</div>"
            ],
            "text/plain": [
              "   news_ID  ... name\n",
              "0        1  ...   []\n",
              "1        2  ...   []\n",
              "2        3  ...   []\n",
              "3        4  ...   []\n",
              "4        5  ...   []\n",
              "5        6  ...   []\n",
              "6        7  ...   []\n",
              "7        8  ...   []\n",
              "8        9  ...   []\n",
              "9       10  ...   []\n",
              "\n",
              "[10 rows x 4 columns]"
            ]
          },
          "metadata": {
            "tags": []
          },
          "execution_count": 7
        }
      ]
    },
    {
      "cell_type": "code",
      "metadata": {
        "tags": [],
        "id": "pTiOU2_wuk-C",
        "colab_type": "code",
        "colab": {
          "base_uri": "https://localhost:8080/",
          "height": 1000
        },
        "outputId": "66c64541-b253-4324-d26c-0aa52f3c32c8"
      },
      "source": [
        "# 取出網站種類\n",
        "webKind = df[\"hyperlink\"].str.split('/').str.get(2)\n",
        "webKind, count = np.unique(webKind, return_counts = True)\n",
        "dict = {\"name\": webKind,  \n",
        "        \"counts\": count\n",
        "       }\n",
        "webKind_df = pd.DataFrame(dict)\n",
        "webKind_df"
      ],
      "execution_count": null,
      "outputs": [
        {
          "output_type": "execute_result",
          "data": {
            "text/html": [
              "<div>\n",
              "<style scoped>\n",
              "    .dataframe tbody tr th:only-of-type {\n",
              "        vertical-align: middle;\n",
              "    }\n",
              "\n",
              "    .dataframe tbody tr th {\n",
              "        vertical-align: top;\n",
              "    }\n",
              "\n",
              "    .dataframe thead th {\n",
              "        text-align: right;\n",
              "    }\n",
              "</style>\n",
              "<table border=\"1\" class=\"dataframe\">\n",
              "  <thead>\n",
              "    <tr style=\"text-align: right;\">\n",
              "      <th></th>\n",
              "      <th>name</th>\n",
              "      <th>counts</th>\n",
              "    </tr>\n",
              "  </thead>\n",
              "  <tbody>\n",
              "    <tr>\n",
              "      <th>0</th>\n",
              "      <td>ccc.technews.tw</td>\n",
              "      <td>10</td>\n",
              "    </tr>\n",
              "    <tr>\n",
              "      <th>1</th>\n",
              "      <td>domestic.judicial.gov.tw</td>\n",
              "      <td>30</td>\n",
              "    </tr>\n",
              "    <tr>\n",
              "      <th>2</th>\n",
              "      <td>ec.ltn.com.tw</td>\n",
              "      <td>6</td>\n",
              "    </tr>\n",
              "    <tr>\n",
              "      <th>3</th>\n",
              "      <td>ent.ltn.com.tw</td>\n",
              "      <td>2</td>\n",
              "    </tr>\n",
              "    <tr>\n",
              "      <th>4</th>\n",
              "      <td>estate.ltn.com.tw</td>\n",
              "      <td>1</td>\n",
              "    </tr>\n",
              "    <tr>\n",
              "      <th>5</th>\n",
              "      <td>finance.technews.tw</td>\n",
              "      <td>56</td>\n",
              "    </tr>\n",
              "    <tr>\n",
              "      <th>6</th>\n",
              "      <td>hk.on.cc</td>\n",
              "      <td>57</td>\n",
              "    </tr>\n",
              "    <tr>\n",
              "      <th>7</th>\n",
              "      <td>house.ettoday.net</td>\n",
              "      <td>1</td>\n",
              "    </tr>\n",
              "    <tr>\n",
              "      <th>8</th>\n",
              "      <td>m.ctee.com.tw</td>\n",
              "      <td>530</td>\n",
              "    </tr>\n",
              "    <tr>\n",
              "      <th>9</th>\n",
              "      <td>m.ltn.com.tw</td>\n",
              "      <td>12</td>\n",
              "    </tr>\n",
              "    <tr>\n",
              "      <th>10</th>\n",
              "      <td>money.udn.com</td>\n",
              "      <td>8</td>\n",
              "    </tr>\n",
              "    <tr>\n",
              "      <th>11</th>\n",
              "      <td>mops.twse.com.tw</td>\n",
              "      <td>273</td>\n",
              "    </tr>\n",
              "    <tr>\n",
              "      <th>12</th>\n",
              "      <td>news.cnyes.com</td>\n",
              "      <td>709</td>\n",
              "    </tr>\n",
              "    <tr>\n",
              "      <th>13</th>\n",
              "      <td>news.ebc.net.tw</td>\n",
              "      <td>1</td>\n",
              "    </tr>\n",
              "    <tr>\n",
              "      <th>14</th>\n",
              "      <td>news.ltn.com.tw</td>\n",
              "      <td>332</td>\n",
              "    </tr>\n",
              "    <tr>\n",
              "      <th>15</th>\n",
              "      <td>news.mingpao.com</td>\n",
              "      <td>379</td>\n",
              "    </tr>\n",
              "    <tr>\n",
              "      <th>16</th>\n",
              "      <td>news.tvbs.com.tw</td>\n",
              "      <td>112</td>\n",
              "    </tr>\n",
              "    <tr>\n",
              "      <th>17</th>\n",
              "      <td>ol.mingpao.com</td>\n",
              "      <td>4</td>\n",
              "    </tr>\n",
              "    <tr>\n",
              "      <th>18</th>\n",
              "      <td>sina.com.hk</td>\n",
              "      <td>72</td>\n",
              "    </tr>\n",
              "    <tr>\n",
              "      <th>19</th>\n",
              "      <td>technews.tw</td>\n",
              "      <td>128</td>\n",
              "    </tr>\n",
              "    <tr>\n",
              "      <th>20</th>\n",
              "      <td>tw.news.yahoo.com</td>\n",
              "      <td>27</td>\n",
              "    </tr>\n",
              "    <tr>\n",
              "      <th>21</th>\n",
              "      <td>udn.com</td>\n",
              "      <td>448</td>\n",
              "    </tr>\n",
              "    <tr>\n",
              "      <th>22</th>\n",
              "      <td>www.bnext.com.tw</td>\n",
              "      <td>59</td>\n",
              "    </tr>\n",
              "    <tr>\n",
              "      <th>23</th>\n",
              "      <td>www.businesstoday.com.tw</td>\n",
              "      <td>120</td>\n",
              "    </tr>\n",
              "    <tr>\n",
              "      <th>24</th>\n",
              "      <td>www.chinatimes.com</td>\n",
              "      <td>621</td>\n",
              "    </tr>\n",
              "    <tr>\n",
              "      <th>25</th>\n",
              "      <td>www.cna.com.tw</td>\n",
              "      <td>6</td>\n",
              "    </tr>\n",
              "    <tr>\n",
              "      <th>26</th>\n",
              "      <td>www.coolloud.org.tw</td>\n",
              "      <td>25</td>\n",
              "    </tr>\n",
              "    <tr>\n",
              "      <th>27</th>\n",
              "      <td>www.cw.com.tw</td>\n",
              "      <td>45</td>\n",
              "    </tr>\n",
              "    <tr>\n",
              "      <th>28</th>\n",
              "      <td>www.ettoday.net</td>\n",
              "      <td>118</td>\n",
              "    </tr>\n",
              "    <tr>\n",
              "      <th>29</th>\n",
              "      <td>www.fsc.gov.tw</td>\n",
              "      <td>9</td>\n",
              "    </tr>\n",
              "    <tr>\n",
              "      <th>30</th>\n",
              "      <td>www.hbrtaiwan.com</td>\n",
              "      <td>14</td>\n",
              "    </tr>\n",
              "    <tr>\n",
              "      <th>31</th>\n",
              "      <td>www.hk01.com</td>\n",
              "      <td>117</td>\n",
              "    </tr>\n",
              "    <tr>\n",
              "      <th>32</th>\n",
              "      <td>www.managertoday.com.tw</td>\n",
              "      <td>14</td>\n",
              "    </tr>\n",
              "    <tr>\n",
              "      <th>33</th>\n",
              "      <td>www.mirrormedia.mg</td>\n",
              "      <td>626</td>\n",
              "    </tr>\n",
              "    <tr>\n",
              "      <th>34</th>\n",
              "      <td>www.nextmag.com.tw</td>\n",
              "      <td>4</td>\n",
              "    </tr>\n",
              "    <tr>\n",
              "      <th>35</th>\n",
              "      <td>www.nownews.com</td>\n",
              "      <td>1</td>\n",
              "    </tr>\n",
              "    <tr>\n",
              "      <th>36</th>\n",
              "      <td>www.setn.com</td>\n",
              "      <td>16</td>\n",
              "    </tr>\n",
              "    <tr>\n",
              "      <th>37</th>\n",
              "      <td>www.storm.mg</td>\n",
              "      <td>1</td>\n",
              "    </tr>\n",
              "    <tr>\n",
              "      <th>38</th>\n",
              "      <td>www.wealth.com.tw</td>\n",
              "      <td>29</td>\n",
              "    </tr>\n",
              "  </tbody>\n",
              "</table>\n",
              "</div>"
            ],
            "text/plain": [
              "                        name  counts\n",
              "0            ccc.technews.tw      10\n",
              "1   domestic.judicial.gov.tw      30\n",
              "2              ec.ltn.com.tw       6\n",
              "3             ent.ltn.com.tw       2\n",
              "4          estate.ltn.com.tw       1\n",
              "5        finance.technews.tw      56\n",
              "6                   hk.on.cc      57\n",
              "7          house.ettoday.net       1\n",
              "8              m.ctee.com.tw     530\n",
              "9               m.ltn.com.tw      12\n",
              "10             money.udn.com       8\n",
              "11          mops.twse.com.tw     273\n",
              "12            news.cnyes.com     709\n",
              "13           news.ebc.net.tw       1\n",
              "14           news.ltn.com.tw     332\n",
              "15          news.mingpao.com     379\n",
              "16          news.tvbs.com.tw     112\n",
              "17            ol.mingpao.com       4\n",
              "18               sina.com.hk      72\n",
              "19               technews.tw     128\n",
              "20         tw.news.yahoo.com      27\n",
              "21                   udn.com     448\n",
              "22          www.bnext.com.tw      59\n",
              "23  www.businesstoday.com.tw     120\n",
              "24        www.chinatimes.com     621\n",
              "25            www.cna.com.tw       6\n",
              "26       www.coolloud.org.tw      25\n",
              "27             www.cw.com.tw      45\n",
              "28           www.ettoday.net     118\n",
              "29            www.fsc.gov.tw       9\n",
              "30         www.hbrtaiwan.com      14\n",
              "31              www.hk01.com     117\n",
              "32   www.managertoday.com.tw      14\n",
              "33        www.mirrormedia.mg     626\n",
              "34        www.nextmag.com.tw       4\n",
              "35           www.nownews.com       1\n",
              "36              www.setn.com      16\n",
              "37              www.storm.mg       1\n",
              "38         www.wealth.com.tw      29"
            ]
          },
          "metadata": {
            "tags": []
          },
          "execution_count": 8
        }
      ]
    },
    {
      "cell_type": "code",
      "metadata": {
        "tags": [],
        "id": "y719o7V0uk-E",
        "colab_type": "code",
        "colab": {}
      },
      "source": [
        "def getUrlStatusCode(url):\n",
        "  return requests.get(url).status_code\n",
        "\n",
        "def getWebsiteCategory(url):\n",
        "  return url.split('/')[2]\n",
        "\n",
        "def getContext(url):\n",
        "  Category = getWebsiteCategory(url)\n",
        "  if getUrlStatusCode(url) != requests.codes.ok:\n",
        "        return [], []\n",
        "      \n",
        "  # get the news\n",
        "  res = requests.get(f'{url}')\n",
        "  soup = BeautifulSoup(res.text)\n",
        "\n",
        "  # get the title\n",
        "  try:\n",
        "    title = soup.find('h1').text\n",
        "  except AttributeError as e:\n",
        "    print(\"url : \", url, \" get title fail\")\n",
        "    title = []\n",
        "\n",
        "  # get contents   \n",
        "  try:\n",
        "    contents = soup.find_all('p')\n",
        "  except:\n",
        "    print(\"url : \", url, \" get contents fail\")\n",
        "    return title, []\n",
        "\n",
        "  lines = []\n",
        "  for content in contents:\n",
        "    try:\n",
        "      content.find('a').txet\n",
        "      continue\n",
        "    except:\n",
        "      pass\n",
        "    oneLine = re.sub('[\\(\\)\\{\\}<>\\n\\t\\xa0\\r\\u3000]', '', content.text)  \n",
        "    lines.append(content.text)\n",
        "  article = \"\".join(lines).strip()\n",
        "  return title, article"
      ],
      "execution_count": null,
      "outputs": []
    },
    {
      "cell_type": "code",
      "metadata": {
        "tags": [],
        "id": "ZpYsFmKDuk-G",
        "colab_type": "code",
        "colab": {
          "base_uri": "https://localhost:8080/",
          "height": 105
        },
        "outputId": "a47feb69-dc68-487c-8f56-2f12df5f1a00"
      },
      "source": [
        "# 單獨測試\n",
        "# 有問題 5\n",
        "index = 6\n",
        "url = df[\"hyperlink\"][index]\n",
        "category = getWebsiteCategory(url)\n",
        "title, article = getContext(url) \n",
        "print(\"url :\", url, \"\\ncategory :\", category,'\\ntitle', title, \"\\narticle :\", article)"
      ],
      "execution_count": null,
      "outputs": [
        {
          "output_type": "stream",
          "text": [
            "url : https://m.ctee.com.tw/livenews/gj/ctee/a07672002019081610333753 \n",
            "category : m.ctee.com.tw \n",
            "title    工商時報 - 您投資理財的好夥伴   \n",
            "article : 華為創辦人任正非接受英國媒體訪問時表示，他相信英國不會拒絕華為參與建設5G網路。此外，他也堅稱，華為設備並沒有安裝「後門」程式。任正非接受英國天空新聞（Sky News）訪問時指出，英國首相強森（Boris Johnson）是一名果斷且有能力的人，他上任3日後已表明英國應該盡快建設5G網絡，相信英國經過嚴格測試，並以認真態度研究後，不會拒絕華為。他重申，華為的電訊設備並無如外界傳聞般按中國政府要求安裝後門程式，形容華為員工不會做一些令華為「破產、自尋死路」的事。但他承認，美國政府將華為列入貿易黑名單，限制美國企業向華為出口零部件及軟體，對華為造成嚴重損害。任正非強調，自從美國針對華為以來，他從未與中共領導人見面，否則將跌入了美國總統川普的圈套，但說若非對方大肆「宣傳」華為，外界根本不知道華為產品的競爭力。針對加拿大政府應美國要求，逮捕華為副董事長孟晚舟，並可能被引渡到美國，任正非認為，這並非一件小事，但孟晚舟目前情況良好，正在如常生活，重申中國和加拿大兩國之間的政治問題不應將華為甚至其家人牽涉在內。\n"
          ],
          "name": "stdout"
        }
      ]
    },
    {
      "cell_type": "code",
      "metadata": {
        "id": "kpmPpduNuk-I",
        "colab_type": "code",
        "colab": {}
      },
      "source": [
        "df_addContext = df.copy()"
      ],
      "execution_count": null,
      "outputs": []
    },
    {
      "cell_type": "code",
      "metadata": {
        "id": "nr0l8XZKuk-L",
        "colab_type": "code",
        "colab": {}
      },
      "source": [
        "# 網站分類\n",
        "#df_addContext['webKind'] = df_addContext['hyperlink'].apply(lambda x: getWebsiteCategory(x))"
      ],
      "execution_count": null,
      "outputs": []
    },
    {
      "cell_type": "code",
      "metadata": {
        "tags": [
          "outputPrepend"
        ],
        "id": "v40nvYkBuk-N",
        "colab_type": "code",
        "colab": {
          "base_uri": "https://localhost:8080/",
          "height": 1000
        },
        "outputId": "135106e8-5f2d-461b-a0d3-5180dbd1d5d5"
      },
      "source": [
        "#df_addContext['contextCrawler'] = df_addContext['hyperlink'].apply(lambda x: getContext(x))\n",
        "contextList = []\n",
        "hyperlinkList = df_addContext['hyperlink']\n",
        "for index, url in enumerate(tqdm(hyperlinkList)):\n",
        "    title, article = getContext(url)\n",
        "    #print(\"url :\", url, \"\\ncategory :\", category,'\\ntitle', title, \"\\narticle :\", article)\n",
        "    \n",
        "    #contextList.append(context)"
      ],
      "execution_count": null,
      "outputs": [
        {
          "output_type": "stream",
          "text": [
            "  0%|          | 1/5023 [00:01<1:43:18,  1.23s/it]"
          ],
          "name": "stderr"
        },
        {
          "output_type": "stream",
          "text": [
            "url : https://news.cnyes.com/news/id/4352432 \n",
            "category : m.ctee.com.tw \n",
            "title 量化交易追求絕對報酬 有效對抗牛熊市 \n",
            "article : 熱搜：熱門行情最近搜尋基金老司機近年來投資市場波動越來越明顯，追求低波動、絕對報酬的量化交易備受注目。專家表示，採用量化交易策略投資台股，不管是處於多頭或是空頭市場，績效及波動度均可領跑大盤，甚至比國內投資台股的股票型基金及 ETF 的波動率還低，表現也更為穩定。大數據時代來臨，風行歐美 50 年的量化交易儼然成為顯學，台灣亦開始重視此一趨勢發展，也因此，中華機率統計學會及台北科技大學管理學院攜手主辦，並由元大期貨、摩根亞太量化交易等公司擔任協辦單位，今 (7/5) 日舉辦「時間序列與量化交易研討會」，就目前熱門的量化交易、智能投資等相關議題進行研討。量化交易的操作績效不亞於價值投資及技術投資，被譽為數學天才、最賺錢的基金經理人，文藝復興對沖基金創始人詹姆斯 · 西蒙斯 (James Simons) 所管理的大獎章 (Medallion) 基金，便是典型的量化交易，績效表現優異，不僅勝過索羅斯的量子基金，也打敗了股神巴菲特的價值投資。近年來台灣也逐漸重視量化交易，摩根亞太量化交易公司今年開始將量化交易引進台股投資，是國內首家推出量化交易策略的公司，初期對象鎖定法人機構，進行私募投資。張堯勇表示，數學不只是一門學科，更是一項扭轉乾坤、轉敗為勝的競爭利器，量化交易就是將數學運用在股市投資，透過複雜、精密的推理計算，打敗股市。他指出，目前全球利率水平 50 位於年來新低，美國十年期公債殖利率只有 2%，日本及一些歐洲國家甚至是負利率。歷史極低利率帶導致無風險及低風險工具的投資報酬率太低（例如：銀行存款、政府公債及投資等級公司債），無法對抗通貨膨脹及支付負債，所以資產配置必須增加較高風險的投資，如股票、高收益公司債或新興市場債券，但是這些投資工具波動很大，而且很容易產生虧損！張堯勇指出，量化投資具有低波動、絕對報酬、優於大盤的三大特點，摩根亞太量化交易模擬台股近 8 年來的績效，結果顯示，運用量化交易的年化報酬率及波動度均優於台股上市櫃指數，以 2011 年金融海嘯及 2018 年中美貿易戰為例，台股上市、上櫃指數均是負報酬，不過，摩根量化交易卻是正報酬，而且波動度也比較低。\n"
          ],
          "name": "stdout"
        },
        {
          "output_type": "stream",
          "text": [
            "\r  0%|          | 2/5023 [00:03<2:07:17,  1.52s/it]"
          ],
          "name": "stderr"
        },
        {
          "output_type": "stream",
          "text": [
            "url : https://udn.com/news/story/120775/4112519 \n",
            "category : m.ctee.com.tw \n",
            "title 外送員死亡未通報 北市勞動局開罰Uber Eats 30萬 \n",
            "article : 10月13日晚間發生Uber Eats黃姓外送人員職災死亡案件，北市府勞動局認定業者未依職業安全衛生法第37條第2項第1款規定於8小時內向勞動檢查機構通報，開罰Uber Eats 30萬元。\n",
            "\n",
            "\r\n",
            "北市勞動局職安科科長康水順表示，職安衛部份已完成檢查，經訪談筆錄及取得的文件認定該名罹災勞工與Uber Eats具有僱傭關係，故依職業安全衛生法第37條第2項第1款，雇主應於8小時內通報，但至今無收到任何通報記錄；另外送員於發生職災死亡後，Uber Eats知悉事故的發生卻未通報，屬明知法令卻仍違法。\n",
            "\r\n",
            "北市勞動局長賴香伶表示，由於平台業者標榜食物外送之快捷性，卻罔顧外送員行車安全，更以送達時間計算外送員工作獎金，致外送員為達平台業者規定，執行外送業務時於道路上高速行駛及穿梭於車陣，徒增行車事故風險。勞動局已事先向業者宣導法令，考量Uber Eats違法行為嚴重影響公共秩序，受責難程度高，依行政罰法、職業安全衛生法裁處罰鍰30萬元。\n",
            "\r\n",
            "勞動局職安科表示，今日先針對職災通報部分裁處作成決議，後續業者違反勞基法的部分，將根據違法部分另行開罰。除針Uber Eats黃姓外送人員職災死亡卻未依法通報案件開罰業者30萬元，北市政府今日下午也跨局處召開「外送人員保障專案會議」。圖／台北市勞動局提供\n",
            "                    外送員車禍又一樁！Uber Eats林姓外送員與柯姓女駕駛發生碰撞，林男身體擦傷，送醫後無礙。近日外送平台崛起，路上可見...                  \n",
            "                    新北市府交通局今天表示，將規劃機車卸貨停車區域，並開放外送員臨時停靠家長接送區，公有停車場也提供機車免費停車時段，方便機...                  \n",
            "                    近來外送產業爭議不斷，台北市政府警察局今邀集交通局及Uber eats、Foodpanda、Lalamove等6家外送平...                  \n",
            "                    現在外送競爭激烈，路上隨處可見外送員奔波送餐，為了能多搶單多賺點錢，有些外送員不惜會搶快違規，也因此近來外送員事故頻頻。有網友在臉書上PO出一張照片，一名外送員疑似跨越雙黃線逆向停等紅綠燈，讓原PO看了感嘆「錢要賺生命也要顧啊」。不過照片一PO出來，卻有人質疑原PO開車時為何還能使用手機拍照，網友留言引起兩派不同看法激辯。\n"
          ],
          "name": "stdout"
        },
        {
          "output_type": "stream",
          "text": [
            "\r  0%|          | 3/5023 [00:08<3:32:26,  2.54s/it]"
          ],
          "name": "stderr"
        },
        {
          "output_type": "stream",
          "text": [
            "url : https://www.mirrormedia.mg/story/20191008soc011/ \n",
            "category : m.ctee.com.tw \n",
            "title 【法拍有詭4】飯店遭管委會斷水斷電　員工怒吼：生計何去何從？ \n",
            "article : 全部類別\n",
            "    \n",
            "      全部類別\n",
            "    \n",
            "    全文朗讀\n",
            "  \n",
            "    00:00 / 00:00君鴻酒店業者控訴高雄地院強制法拍龐大資產，是為了讓財團得利。君鴻業主表示，拍得君鴻的凱德唐公司要求85大樓管委會，在今年8月21日晚上11點後，將酒店斷水斷電，還讓電梯、緊急升降梯停擺，甚至將緊急逃生門鎖死，無視君鴻酒店於點交前仍可合法使用，還有損仍在大樓內辦公，且不點交的福勵、樂活、富勝3家公司員工權益，導致員工無法上班，客戶無法進入，以致公司經營困難、損失巨大。這3家公司緊急反應給高雄地院執行處，沒想到高雄地院竟回覆這些事項非該處所得置問，叫可憐員工情何以堪？福勵、樂活、富勝3家公司的員工向本刊控訴，君鴻酒店遭法拍疑點重重，已經影響君鴻600多位員工的生計；他們也只是向君鴻承租的公司，在法拍中也不點交，卻遭此對待，根本是罔顧員工的權益。3家公司同時也向高雄市政府陳情，不過市府要求君鴻、85大樓管委會和凱德唐3家公司自行協商，不過凱德唐至今未有任何誠意進行協調，實在感到氣憤又無奈。員工指出，君鴻酒店還有多座冷凍櫃、冷藏櫃位於38樓，遭斷水斷電後，櫃內的食材已經發霉腐壞，還傳出有毒的「沼氣」，對整棟樓人員的健康、安全造成相當的疑慮，如今各單位互踢皮球不重視，簡直是視人命如草芥。還有員工說，電梯、安全梯被鎖住，讓辦公室位於37樓的他們必須爬樓梯，人身安全也受影響，更有不少私人財物無法取得，他們要求凱德唐公司面對問題，重視勞工權益。君鴻董事長張慶輝表示，85大樓的37樓占有情形仍待司法釐清，此部分在9月16日時，第三承租人和君鴻酒店均提出聲明異議，林姓司法事務官未作成准駁前，卻配合凱德唐公司要求，在今年10月29日上午9點20 分強硬執行點交程序，明顯公然違反拍賣條件。本刊詢問凱德唐公司所屬的海霸王集團，海霸王僅表示，對85大樓的事務也均不回應，一切以高層發布的新聞稿為主。而海霸王總經理李日順日前受訪時則強調，凱德唐自3月29日取得權利移轉證書以來，樂活、富勝及福勵的租賃關係已移轉至凱德唐，且這3家業者半年來未繳任何租金，租賃關係依法早已終止，凱德唐才是最大受害者。另外，君鴻向法院聲請大法庭審理，已由最高法院駁回，亦即本次拍賣事件均屬合法。 \n",
            "        更新時間｜2019.10.10 17:14【法拍有詭1】3個月內強制法拍君鴻酒店　董座：司法搞鬼【法拍有詭2】法拍公告刻意加註「禁止處分」　競標者卻步由「它」得標相關關鍵字：\n"
          ],
          "name": "stdout"
        },
        {
          "output_type": "stream",
          "text": [
            "\r  0%|          | 4/5023 [00:08<2:36:34,  1.87s/it]"
          ],
          "name": "stderr"
        },
        {
          "output_type": "stream",
          "text": [
            "url : https://www.chinatimes.com/realtimenews/20190917000619-260106 \n",
            "category : m.ctee.com.tw \n",
            "title [] \n",
            "article : []\n"
          ],
          "name": "stdout"
        },
        {
          "output_type": "stream",
          "text": [
            "\r  0%|          | 5/5023 [00:10<2:42:38,  1.94s/it]"
          ],
          "name": "stderr"
        },
        {
          "output_type": "stream",
          "text": [
            "url :  http://domestic.judicial.gov.tw/abbs/wkw/WHD9HN03.jsp?crtid=PTD&filenm=ECE5DAECAF563DA171E34B03FC5185742FC90F879191D5DF  get title fail\n",
            "url : http://domestic.judicial.gov.tw/abbs/wkw/WHD9HN03.jsp?crtid=PTD&filenm=ECE5DAECAF563DA171E34B03FC5185742FC90F879191D5DF \n",
            "category : m.ctee.com.tw \n",
            "title [] \n",
            "article : \n"
          ],
          "name": "stdout"
        },
        {
          "output_type": "stream",
          "text": [
            "\r  0%|          | 6/5023 [00:15<3:42:59,  2.67s/it]"
          ],
          "name": "stderr"
        },
        {
          "output_type": "stream",
          "text": [
            "url : http://www.coolloud.org.tw/node/93356 \n",
            "category : m.ctee.com.tw \n",
            "title  \n",
            "article : ãæ°èç¨¿ãç³åç½æ°å·²åå¤ ï¼æ¿åºæå±¥è¡æ¿è«¾ãéä¹ç·¨ï¼å§æ¿é¨é½å¸è¨ç«å§å¡æå§å¡çºå¯©æ¥å¤§ç¤¾å·¥æ¥­åæ¯å¦éçºä¹ç¨®å·¥æ¥­åï¼å°æ¼8æ30æ¥å°é«éå¤§ç¤¾ç¾åï¼è¨»1ï¼ï¼å°çå¬æ°åºéæãå¤§ç¤¾ç°å¢å®è­·è¯çä»å¤©å±åå¬éè¨èæï¼ç±å°çå¬æ°åºéæå¯å·è¡é·çæç²åå¤§ç¤¾ç°å¢å®è­·è¯çå¬éäººå³å¿ ç©ä¸»æï¼ä»åæè¬é½å§æå§å¡å°ç¨ä¾å°å¤§ç¤¾ï¼ä½ä¹å¼ç±²å§å¡åè¦ªèªå°å·¥æ¥­åé°è¿çæ°å®æåå±æ°çèå¢ï¼å¾ç¤¾åçè¦è§é«æå¤§ç¤¾æ°ç¾æ¸åå¹´ä¾èç³åå» çºé°çæåï¼è½è¦å±æ°æå¾æ¹è®çå¿è²ãå¤§ç¤¾ç°å¢å®è­·è¯çå¬éäººå³å¿ ç©è¡¨ç¤ºï¼è¨èæç¹å¥å¨æ°å®é æ¨èè¡ï¼è®å¤§å®¶çå°ï¼æåå¾é¢çéäºçåªï¼å°±æ¯ãå¤§ç¤¾æ¥å¸¸ãï¼å¾æå¿8æ30æ¥å§æ¿é¨çå§å¡å°å¤§ç¤¾æï¼å·¥æ¥­åæå»æåç¾åºææ¼äº®çä¸é¢ãå³å¿ ç©èªªï¼å¤§ç¤¾ç°å¢å®è­·è¯çå¨4æä¸­ç¼èµ·ç°å³èª¿æ¥ï¼å±217äººåèï¼æ30%çäººæ¯å¤©èå°ç°å³ï¼å°è¿50%çäººæ¯é±é½èå°ç°å³ï¼å1ï¼ï¼éæ¯æ­£å¸¸çç¤¾åè©²æçåï¼å±æ°å¦ä½åå¿èï¼è¯çæç«å¾ï¼å¨ç¤¾åééå°è¨±å¤è·ç³åæ±¡ææéççä¾ï¼æå¨50æ­²å è¡æ¶²ç¾çéä¸çï¼ä¹æ70å¤æ­²çé·èå è¡æ¶²ç¾ççªç¶åä¸çï¼èªå·±å®¶äººèæåçè¦ªæä¹æè¡çéä¸çä¾å­ï¼èè®æé£éçæ¯è½å°10å¤æ­²çå°å­©ååå®éª¨é«ç§»æ¤ãèª°å¸ææ¿å°å­©çå¥åº·ä¾è³­? é·è¼©å26å¹´çç­å¾ï¼è¨±å¤äººå·²ç­ä¸åé¢å»ï¼æ´å¤äººå°éåæ¿åºå¤±å»ä¿¡å¿ãå³å¿ ç©æ°£æ¤å°èªªï¼æåè¦åç¶æ¿é¨å°åºä½ææè½æ¾é«éä¸æ¢çè·¯ï¼1993å¹´çç¶æ¿é¨é·æ±ç³å¤åé«éç¸£é·ä½é³æè±ç°½çæä»¶ä¸ç®æ¸å?åå¸é·è±åª½åè¡æ¿é¢å¯é¢é·é³å¶éï¼é«éçåé¡ï¼ä½ åæçå°å?éè¦ä½ åçæåï¼ä¸å¥è¡æ¿ä¸­ç«å°±å¸¶éï¼éåçå¸é·ï¼é«éçæ±¡æåé¡ï¼ä½ çå°äºåï¼ Â ä¸­å±±å¤§å­¸ç¤¾æç³»å¯ææé±è±å¦¹è¡¨ç¤ºï¼è®æ·±åæ±¡ææè¦çç¤¾åå±æ°èç³ååå·¥é·å¥å°ç«ï¼å°å±æ°èåå·¥ä¸¦ä¸å¬å¹³ï¼æ´æ¨¡ç³äºå¤§ç¤¾å·¥æ¥­åéç·¨å°é«éãä¹è³å°å°ç£æ´é«å·¥æ¥­è½åçéè¦æ§ãæ¿åºæçµå°è²¬ä»»ï¼ä¿¡å®å¤§ç¤¾å·¥æ¥­åéç·¨æ¿è«¾ãè¿éå±æ°ç°å¢æ­£ç¾©ï¼ä¸¦å¨åå¸çå·¥æ¥­è½åéç¨ä¸­åæä¿éåå·¥æ¬çãåééä»¥ãå¬æ­£è½åãçååèçç¢æ¥­çµæ§èª¿æ´åè½åéç¨ä¸çååæ¬ä¿éåé¡ï¼å°ç£ä¹å¯è½ééè¦åå¦¥åä¾èçï¼ä»¥ä¸­æ²¹é«éçæ²¹ç¸½å» 2015å¹´çéå» ç¶é©çºä¾ï¼æ ¹æ2016å¹´ä¸­æ²¹å¬å¸å¨ç«æ³é¢çå ±åï¼ä¸­æ²¹å¬å¸çºè¿æ¥2015å¹´é«å» éå» ï¼å¨2013å¹´3 æ13æ¥å³æç«äºãè·¨å®ä½äººåç§»è½è¦åå°æ¡å°çµãï¼éè«ç¸éäºæ¥­å®ä½èå·¥æï¼å®å¬éæè­°ç åï¼è¨åºäººåç§»è½ä½æ¥­ååï¼éç¨ä¸­æ­·ç¶äº33 æ¬¡æè­°ï¼éåé«å» åå·¥é²åº¦èå¹´åº¦å¡é¡é²ç¨è¦åï¼ééçµç¹äººåç§»è½ãå¡å·¥å±é½¡éä¼ãé«å» éæ®µæ§æé·äººåãé«å» å¾çºæ´æ²»å·¥ä½ç­é·æçµç¹äººåéæ±ï¼éæ­¥å®æäººåçç§»è½èå®ç½®ï¼ç¢ºèªè½åéç¨ä¸å½±é¿å¡å·¥çå·¥ä½æ¬çãé±è±å¦¹èªçºï¼æ¿åºèä¼æ¥­çµå°æè½åå¨ç¢æ¥­çµæ§èª¿æ´ãå·¥å» éå» æè½åéç¨ï¼ééå®æ´çè©ä¼°èè¦åï¼ä¿éå·¥äººçå·¥ä½æ¬çãæ·±æ ¹å¤§ç¤¾å°åå¤å¹´çé«éå¸è­°å¡å¼µåå¯ä¹åéåºå¸­è¨èæï¼ä»èªªå¤§ç¤¾å·¥æ¥­åéç·¨çè­°é¡å¶å¯¦æ¯ä¸æ®µæ­·å²çæ¼è®ï¼å¿é æ¨å26å¹´åå´éçå·¥å®æå¤ï¼å çºæé£æ¬¡å·¥å®äºä»¶ï¼è®å¤§ç¤¾å±æ°äºè§£åä¾èªå·±çå±ä½å°å¦æ­¤å±éªï¼ææç­åå» ï¼æ¿å®¶éåæªä¾çå­å­«ææ¼ãå¼µåå¯å¼·èª¿ï¼ä½å°ç£é£ææ¯æ­£å¼ç¶æ¿èµ·é£çå¹´ä»£ï¼é«éå¸è©è² èç¶æ¿ç¼å±ãå·¥æ¥­ç¼å±çä»»åï¼æå¾æç±æ¿åºãå» åãå¸æ°è«å¤éæåè­°ï¼ç±ç¶å¹´çç¶æ¿é¨é¨é·æ±ä¸å¤é¢é·é å¸ï¼å¹³æ¯äºäºä»¶ãèéäº26å¹´å¾çä»å¤©ï¼æ°ç¾çå¥åº·å·²ä»åºä»£å¹ï¼æ¿åºå¿é æèµ·éå»çè«¾è¨ï¼å» åä¹è©²éµå®å°ç¾å§çæ¿è«¾ï¼ä¸åä¾æ³è¡æ¿æå°ãå¦ä»ç½ç´é»å­çå¬æå¼ç¶æçºä¸å¼µè¡çç´ï¼æ¹å»éå»çæ¿è«¾åè«¾è¨ï¼è«åæªä¾æåå¦ä½æå°ä¸ä¸ä»£ç¸ä¿¡æ¿åºï¼æåå¦ä½æå°ä¸ä¸ä»£èª ä¿¡çéçï¼å¼µåå¯ä¸»å¼µå§æ¿é¨æç«å³å°å¤§ç¤¾å·¥æ¥­åéç·¨çºä¹ç¨®å·¥æ¥­åãå»ä¸å®¹ç·©ï¼é«éå¸è­°å¡é»æ·è¡¨ç¤ºï¼ä»å¤©é¸å¨éåå°æ¹å¬éè¨èæï¼å°±æ¯å¸æè«åä½æ­£è¦å¤§ç¤¾å±æ°çèå¢ï¼éå°±æ¯ä»å¤§å±æ°æ¯å¤©å¼å¸çç©ºæ°£ï¼éç¨®æ¡è­èåºé¼»å³ï¼æ¯å±æ°çæ¥å¸¸ï¼èç¶æ¿é¨26å¹´çæ¿è«¾ï¼ä¸åè·³ç¥¨ï¼çè³éæ³é«èç¶æ¿ç¼å±çå¤§æï¼æ£æå¤§ç¤¾å±æ°çå¥åº·æ¬ï¼æ¿å·¥ä½æ¬ä¾æªå¡å¨å°å±æ°çè²é³ï¼éé£éå°±æ¯æ¿åºæè¬çæ¿äººæ°æéåï¼æéçæ¯ç³åæ¥­çå©çï¼éæ¯äººæ°çå¥åº·ï¼æå¨æ­¤å¼ç±²ç¶æ¿é¨ï¼é«éå·²ç¶è¢«ç³åæ¥­ç¶æ¶äºæ¸åå¹´ï¼æåéè¦çæ¯ç¢æ¥­è½åãä½ç°å¢æ±æï¼éææ¯é«éæªä¾æè©²è¦çæ¹åï¼ä¸è¦ç²ç·¨ãæä¹è¦åå§æ¿é¨é½å§æå§å¡è«æ±ï¼å¤§ç¤¾å±æ°ä¸æè©²ååç©ºæ°£æ±¡æä¹è¦ï¼æåå®å¾æ°é®®çç©ºæ°£ï¼æè«åä½æ³æ³å¤§ç¤¾äººçèå¢ï¼ä¸¦ååºéä¹ç·¨çæ±ºå®ï¼å¤§ç¤¾äººçæªä¾å¨ä½ åæä¸­ãå°çå¬æ°åºéæå¯å·è¡é·çæç²è¡¨ç¤ºï¼å¤§ç¤¾å·¥æ¥­åæ©å¨1971å¹´(æ°å60å¹´)6æéç¼ç¬¬ä¸æï¼1975å¹´(æ°å64å¹´)12æå®æç¬¬äºæçéç¼ï¼æ­¤å¾ç³åæ¥­çæ±¡æå¨å¤§ç¤¾çç¤¾åä¾¿å¦å½±é¨è¡ï¼æ ¹ææå¤§ç ç©¶ç¼å±åºéææ¼2015å¹´å®æçãä»å¤§å·¥æ¥­åé°è¿ååå±æ°å¥åº·é¢¨éªè©ä¼°è¨ç«ãå ±åï¼å¤§ç¤¾å·¥æ¥­åéä½çç©è³ªæ356ç¨®ï¼è´çç©è³ªæ35ç¨®ï¼åæ¬1-3,ä¸äºç¯ãç°æ°§ä¹ç·ç­ç­ï¼å æ­¤å¤§ç¤¾å±æ°æèå°çåç¨®ç°å³ä¸¦ä¸æå¤ï¼ä½ä»¤äººååæå¿ãçæç²èªªï¼é¤äºç©ºæ±¡ï¼ç³åç®¡ç·è²«ç©¿é«éå¸åçåé¡æ´å¸é¡¯å°å¤§ç¤¾å·¥æ¥­åéçºä¹ç¨®å·¥æ¥­åçå¿è¦æ§ï¼ä»¥å¤§ç¤¾éè¿çä»æ­¦åä¾èªªï¼æä¸æ®µæ°´ç®¡è·¯ï¼ç´å¨æ¥è¿åéä¸èé«éå¬è·¯èé³³ä»è·¯ä¹éï¼çå°åºä¸å°±æç³åç®¡ç·éééèä¸ç¯ï¼èå¨è·¯çä¸æ¹é«æ¶çéè·¯ä¸å»æ¯æ¯å¤©ä¾åç©¿æ¢­è¼éå¤§éæå®¢çé«éµè»éï¼è·¯ç·éçä¹èç´æ1.5å¬éï¼å2ï¼ï¼ï¼ä¸æ¦ç®¡ç·ç¼çæå¤ï¼è¼èçºé«éµè»éè®å½¢ææ¯æï¼éèå°æ³¢åå¤å°äººçèº«å®¶æ§å½ï¼å¦æ­¤å¤éèè¤éçé¢¨éªï¼è©¦åèª°è½æ¿æï¼ Â  Â åºæ¼å°8æ30æ¥é½å§æç¾åè¡ç¨çéè¦ï¼éå ´è¨èæé¤äºå°çå¬æ°åºéæãå¤§ç¤¾ç°å¢å®è­·è¯ççæå¡å¤ï¼éæä¸ãå«ä½å®¶é·ææé·ï¼ä¾èªé°è¿å·¥æ¥­åçåå°ï¼å°ç¨åºå¸­è¡¨æç¸æºï¼æ¯æåééçºä¹ç¨®å·¥æ¥­åãå°çå¬æ°åºéæãå¤§ç¤¾ç°å¢å®è­·è¯çåç¾å ´èæèæå¾å±ååç¶æ¿é¨å·¥æ¥­å±åå§æ¿é¨é½å§æåè©±ï¼è«æ¿åºä»å¹´å°±å°å¤§ç¤¾å·¥æ¥­åéç·¨çºä¹ç¨®å·¥æ¥­åï¼å¤§ç¤¾äººè¦çå°å·é«ä¸å¯¦è³ªçæ¹è®ï¼è¨èææå¾å¨åè²é«åï¼ãç³åç½æ°å·²åå¤ ãå±¥è¡æ¿è«¾éä¹ç·¨ãå§å¡è«å°æ°å®ç¾åãä¸­çµæãï¼è¨»1ï¼æ­¤çºä»å¹´3æ22æ¥é«éå¸é½å§æå·²ééå¤§ç¤¾å·¥æ¥­åéç·¨çºä¹ç¨®å·¥æ¥­åçæ±ºè­°ï¼å§æ¿é¨çå»ºç½²é½å§æåå¨6æ3æ¥å¬éç¬¬ä¸æ¬¡å°æ¡å°çµæè­°å¯©æ¥ï¼æä¸­æ±ºå®å®ææ¬æ¡å§å¡å°å¤§ç¤¾ç¾åãå¦è«åèå°çå¬æ°6æ3æ¥æ°èç¨¿ï¼ãç¶æ¿é¨å¯\"ä¹\"åï¼å¥åé \"ç²\"äº å¤§ç¤¾å·¥æ¥­è½åï¼å¸åæçµç®¡ç·ã\n"
          ],
          "name": "stdout"
        },
        {
          "output_type": "stream",
          "text": [
            "\r  0%|          | 7/5023 [00:17<3:34:47,  2.57s/it]"
          ],
          "name": "stderr"
        },
        {
          "output_type": "stream",
          "text": [
            "url : https://m.ctee.com.tw/livenews/gj/ctee/a07672002019081610333753 \n",
            "category : m.ctee.com.tw \n",
            "title    工商時報 - 您投資理財的好夥伴   \n",
            "article : 華為創辦人任正非接受英國媒體訪問時表示，他相信英國不會拒絕華為參與建設5G網路。此外，他也堅稱，華為設備並沒有安裝「後門」程式。任正非接受英國天空新聞（Sky News）訪問時指出，英國首相強森（Boris Johnson）是一名果斷且有能力的人，他上任3日後已表明英國應該盡快建設5G網絡，相信英國經過嚴格測試，並以認真態度研究後，不會拒絕華為。他重申，華為的電訊設備並無如外界傳聞般按中國政府要求安裝後門程式，形容華為員工不會做一些令華為「破產、自尋死路」的事。但他承認，美國政府將華為列入貿易黑名單，限制美國企業向華為出口零部件及軟體，對華為造成嚴重損害。任正非強調，自從美國針對華為以來，他從未與中共領導人見面，否則將跌入了美國總統川普的圈套，但說若非對方大肆「宣傳」華為，外界根本不知道華為產品的競爭力。針對加拿大政府應美國要求，逮捕華為副董事長孟晚舟，並可能被引渡到美國，任正非認為，這並非一件小事，但孟晚舟目前情況良好，正在如常生活，重申中國和加拿大兩國之間的政治問題不應將華為甚至其家人牽涉在內。\n"
          ],
          "name": "stdout"
        },
        {
          "output_type": "stream",
          "text": [
            "\r  0%|          | 8/5023 [00:18<3:03:00,  2.19s/it]"
          ],
          "name": "stderr"
        },
        {
          "output_type": "stream",
          "text": [
            "url : https://www.mirrormedia.mg/story/20191209edi009/ \n",
            "category : m.ctee.com.tw \n",
            "title 「再教育營學員全已結業」　新疆自治區主席：他們過上了幸福生活 \n",
            "article : 全部類別\n",
            "    \n",
            "      全部類別\n",
            "    \n",
            "    全文朗讀\n",
            "  \n",
            "    00:00 / 00:00新疆再教育營爆出中國政府對上百萬維吾爾族人進行關押、洗腦和懲罰等不人道行為，引起各國媒體關注。美國眾議院日前通過《維吾爾族人權政策法案》，針對中國施壓維吾爾族人情況做出制裁。中國國務院今（9）日舉行記者會，新疆維吾爾自治區主席扎克爾（Shöhret Zakir）表示，目前參加新疆「職業技能教育培訓中心」的學員已全數結業，改善了生活質量，過上了幸福生活。據港媒《香港01》報導，新疆維吾爾自治區主席雪克來提．扎克爾今出席記者會，針對外媒提問目前「職業技能教育培訓中心」還有多少學員？該機構什麼時候取消？扎克爾表示，參加人數是動態的，並指境外一些媒體報導學員有100萬至200萬純屬捏造，毫無根據。扎克爾表示，參加「三學一去」（學技能、學普通話、學法律，去極端化思想）的學員已全部結業，在政府的幫助下實現穩定就業改善了生活質量，過上了幸福生活。另外扎克爾也指出，政府為打擊犯罪而設立職業技能教育培訓中心，而新疆已連續3年未發生恐怖攻擊案件。新疆維吾爾自治區黨委常委、自治區副主席艾爾肯·吐尼亞孜表示，新疆沒有大規模拆遷清真寺問題，反而持續改善清真寺服務條件，而新疆維吾爾自治區黨委常委、烏魯木齊市委書記徐海榮也表示，新疆根本不存在拘禁營，並稱外媒的調查報告純屬惡意抹黑。\n",
            "        更新時間｜2019.12.09 15:59為選舉棄守立院？　黃國昌一張圖爆立委跑光光藍委辱警　律師：照葉毓蘭標準他們該被橡膠子彈對待相關關鍵字：\n"
          ],
          "name": "stdout"
        },
        {
          "output_type": "stream",
          "text": [
            "\r  0%|          | 9/5023 [00:19<2:20:49,  1.69s/it]"
          ],
          "name": "stderr"
        },
        {
          "output_type": "stream",
          "text": [
            "url : https://www.chinatimes.com/newspapers/20190827000246-260202 \n",
            "category : m.ctee.com.tw \n",
            "title 國際旅客 連兩月不到百萬 \n",
            "article : 交通部觀光局26日公布7月國際旅客情況，單月98.9萬人次，較去年同期成長15.9％，但已連續兩個月未破百萬門檻，陸客7月單月成長幅度高達四成，顯示整體國際旅客成長動能仍仰賴陸客。由於下半年陸客緊縮效益逐步浮現，甚至有旅行社業者開始放無薪假，在立法院國民黨團安排下，台灣海峽兩岸旅行發展協會27日將赴立法院陳情，盼蔡政府關注觀光產業受到衝擊，交通部次長祁文中將出席說明。觀光局表示，短期內要衝刺國際旅客，考量臨近性、成本效益，仍以東北亞、東南亞等地為主。觀光局長周永暉22、23日特地到日本攬客，為京急電鐵羽田國際機場站的台灣形象廣告揭幕，推廣文化觀光，26日更和32位來自日本四國大學生相見歡，盼他們透過體驗鐵道之旅，可成為台灣觀光的親善大使。據觀光局最新公布的旅客統計，陸客部分，7月達32.2萬人次，較去年同期成長高達43.2％；其次為港澳16.9萬人次，成長4.4％。第三名為日本，為14.6萬人次，成長12.7％，韓國也有7.3萬人次，漲幅也有兩位數水準，達15.5％。綜觀今年前七月，來台國際旅客人次為696.6萬人次，較去年同期成長12.9％，其中又以陸客達199.9萬人次，占比28.7％最高，其次為日本112.5萬人次，占比16.1％；第三是港澳99萬人次，占14.2％；第四是韓國62.8萬人次、占9％；第五則是美國，34.5萬人次，占4.9％。至於蔡政府大力推動的新南向國家，如馬、菲、泰、越，7月旅客介於23至28萬人次，占比約3％～4％。若將18個新南向國家加總，占比可達22％，前七月約154.1萬人次，僅次陸客。觀光局表示，7月陸客仍維持高成長態勢，港澳旅客受到「反送中」內部動盪，來台意願提升，不僅維持正成長，且漲幅有將近5％，在無特殊激勵因素如長假、春節等情況下，像港澳這類成熟市場此成果可謂表現不俗。至於日本、泰國、菲律賓等國，受惠於觀光局強力宣傳之下，7月也較去年有一到三成不等的成長。官員認為，受到陸客自由行禁令、團客限縮影響，要短期內擴大國際客「活水」，還是以鄰近國家為主要目標，例如台灣第二大國際旅客來源的日本，或新南向國家，主因距離台灣近，來台時間短、成本低。遠一點的國家如俄羅斯、歐美等地，一時難成為主力，只能長期培養。中時新聞網對留言系統使用者發布的文字、圖片或檔案保有片面修改或移除的權利。當使用者使用本網站留言服務時，表示已詳細閱讀並完全了解，且同意配合下述規定：違反上述規定者，中時新聞網有權刪除留言，或者直接封鎖帳號！請使用者在發言前，務必先閱讀留言板規則，謝謝配合。\n"
          ],
          "name": "stdout"
        },
        {
          "output_type": "stream",
          "text": [
            "\r  0%|          | 10/5023 [00:20<2:17:42,  1.65s/it]"
          ],
          "name": "stderr"
        },
        {
          "output_type": "stream",
          "text": [
            "url : https://news.cnyes.com/news/id/4365094 \n",
            "category : m.ctee.com.tw \n",
            "title 基金汰弱留強該怎麼做？ \n",
            "article : 熱搜：熱門行情最近搜尋基金老司機對於大部分的投資人而言，如何選擇市場已經非常困難，基金該如何操作也是一大困擾。有的時候買進了一檔當下表現強勁的基金，可是過了一陣子之後，卻發現其表現不如預期。這個時候該怎麼辦呢？如果要汰弱留強，什麼做法會比較合適？為了要判斷汰弱留強的做法有沒有效果，下表假設投資人選擇前一整年績效表現最強的基金，並且在下一年都持有這檔基金，接著每年年底重新檢視是否更換基金。可以發現這樣「根據前一年報酬率相對強弱來挑選基金的策略」是有效果的，也就是說前一年強勁的基金動能有機會延續到接下來的一年，不僅可以大幅勝出同類型基金的平均報酬率，也能跟當期表現前 25% 的基金有差不多的報酬率。既然汰換相對強勢的基金是有效的，那下一個問題就是：多久檢視最好？利用剛剛的標準，比較在每月、季、年底換上上一個時間段裡表現最好的基金，下方線圖可以看出來年度檢視的效果好過月度與季度。最主要的差異來自於頻繁轉換基金的成本侵蝕掉了強勢基金的表現（月、季、年度汰換基金的機率為 90%、94%、78%），而且這樣的累積報酬率還沒有考慮資金轉換而錯過市場的時間差（根據每間基金公司作業時長不同，在每次基金轉換時，可能有 1-2 個禮拜沒有參與市場表現），以過去十年股市一路向上的表現，這樣反而有害績效表現。 前面幾點已經可以看出來從表現強勁的基金中，挑選標的是一個不錯的做法。相較於參考一些第三方機構評等（參考下方表格），也許客觀的績效比主觀的星級評等更具代表性。參考第三方機構評等的準確度不高基金操作上，建議如下：基金汰弱留強，要一勞永逸就選常勝軍同類基金的汰弱留強是絕對有效果的，但頻繁更換基金會產生額外的成本，反而對長期績效沒有幫助。台灣投資界常常發生短期績效異軍突起的基金，吸引大量的資金的狀況，但長期投資人反而應該要小心這樣的陷阱，反過來檢視基金長期績效的一致性，才是最輕省的投資策略。鉅亨精選基金鉅亨投顧獨立經營管理\n",
            "本資料僅供參考，「鉅亨買基金」已盡力就可靠之資料來源提供正確之意見與消息，但無法保證該等資料之完整性。內容涉及新興市場部分，因其波動性與風險程度可能較高，且其政治與經濟情勢穩定度可能低於已開發國家，也可能使資產價值受不同程度之影響，匯率走勢亦可能影響所投資之海外資產價值變動。投資人應依其本身之判斷投資，若有損益或因使用本資料所生之直接或間接損失，應由投資人自行負責，本公司無須負擔任何責任。\n",
            "本文提及之經濟走勢預測不必然代表基金之績效，基金投資風險請詳閱基金公開說明書及投資人須知。\n",
            "基金經金管會核准或同意生效，惟不表示絕無風險，基金經理公司以往之經理績效不保證基金最低投資收益；基金經理公司除盡善良管理人之注意義務外，不負責基金之盈虧，亦不保證最低之收益，投資人申購前應詳閱基金公開說明書及投資人須知。\n",
            "各銷售機構備有基金公開說明書及投資人須知，歡迎索取。有關基金應負擔之費用（境外基金含分銷費用），已揭露於基金之公開說明書或投資人須知中，投資人可至公開資訊觀測站或境外基金資訊觀測站中查詢。\n",
            "投資人投資以高收益債券為訴求之基金不宜占其投資組合過高之比重。基金經金管會核准或同意生效，惟不表示絕無風險。由於高收益債券之信用評等未達投資等級或未經信用評等，且對利率變動的敏感度甚高，故基金可能會因利率上升、市場流動性下降，或債券發行機構違約不支付本金、利息或破產而蒙受虧損。投資人應審慎評估，該等基金不適合無法承擔相關風險之投資人。基金經理公司以往之經理績效不保證基金最低投資收益；基金經理公司除盡善良管理人之注意義務外，不負責基金之盈虧，亦不保證最低之收益，投資人申購前應詳閱基金公開說明書及投資人須知。\n",
            "投資於 Rule 144A 債券，境內高收益債券基金最高可投資基金總資產 30%; 境內以投資新興市場國家為主之債券型基金及平衡型基金最高可投資基金總資產 15%; 境外高收益債券基金可能有部分投資於美國 Rule 144A 債券，該債券屬私募性質，較可能發生流動性不足，財務訊息揭露不完整或因價格不透明導致波動性較大之風險。\n",
            "不動產證券化型基金得投資於高收益債券，其投資總金額不得超過基金淨資產價值之 30％。\n",
            "投資人因不同時間進場，將有不同之投資績效，過去之績效亦不代表未來績效之保證。\n",
            "基金配息率不代表基金報酬率，且過去配息率不代表未來配息率；基金淨值可能因市場因素而上下波動。\n",
            "基金配息前未先扣除應負擔之相關費用。基金的配息可能由基金的收益或本金中支付。任何涉及由本金支出的部份，可能導致原始投資金額減損。鉅亨證券投資顧問股份有限公司 │ 客服信箱：cs@anuegroup.com.tw公司地址：台北市信義區松仁路 89 號 2 樓 A-2 室 │ 服務專線：(02)2720-8126 │ 服務時間：09:00-17:30\n"
          ],
          "name": "stdout"
        },
        {
          "output_type": "stream",
          "text": [
            "\r  0%|          | 11/5023 [00:23<2:40:25,  1.92s/it]"
          ],
          "name": "stderr"
        },
        {
          "output_type": "stream",
          "text": [
            "url :  https://mops.twse.com.tw/mops/web/t05st02?step=1&off=1&firstin=1&TYPEK=sii&i=50&h500=%A4%57%BA%D6%A5%FE%B2%79&h501=6128&h502=20190823&h503=83355&h504=%B8%C9%A4%BD%A7%69-%A5%4E%AD%AB%AD%6E%A4%6C%A4%BD%A5%71%A4%5B%BA%D6%BF%B3%B7%7E%AA%D1%A5%F7%A6%B3%AD%AD%A4%BD%A5%71%A4%BD%A7%69%0D%0A%B8%B3%A8%C6%AA%F8%A5%F4%B4%C1%A9%A1%BA%A1%C4%F2%A5%F4&h505=1&pgname=t05st02  get title fail\n",
            "url : https://mops.twse.com.tw/mops/web/t05st02?step=1&off=1&firstin=1&TYPEK=sii&i=50&h500=%A4%57%BA%D6%A5%FE%B2%79&h501=6128&h502=20190823&h503=83355&h504=%B8%C9%A4%BD%A7%69-%A5%4E%AD%AB%AD%6E%A4%6C%A4%BD%A5%71%A4%5B%BA%D6%BF%B3%B7%7E%AA%D1%A5%F7%A6%B3%AD%AD%A4%BD%A5%71%A4%BD%A7%69%0D%0A%B8%B3%A8%C6%AA%F8%A5%F4%B4%C1%A9%A1%BA%A1%C4%F2%A5%F4&h505=1&pgname=t05st02 \n",
            "category : m.ctee.com.tw \n",
            "title [] \n",
            "article : \n"
          ],
          "name": "stdout"
        },
        {
          "output_type": "stream",
          "text": [
            "\r  0%|          | 12/5023 [00:24<2:14:25,  1.61s/it]"
          ],
          "name": "stderr"
        },
        {
          "output_type": "stream",
          "text": [
            "url : https://www.hk01.com/社會新聞/383851/逃犯條例-建造業議會指立法會積壓700億工程撥款-冀加快審批 \n",
            "category : m.ctee.com.tw \n",
            "title 【逃犯條例】建造業議會指立法會積壓700億工程撥款　冀加快審批 \n",
            "article : 登入 登入 / 註冊反修例風波持續，政府早前亦訂立《禁蒙臉法》，惟示威浪潮未平。建造業議會今（9日）表示，業內正處於嚴峻情況，立法會已積壓700億元的工務工程撥款未及審批，致工程量不穩、工人開工不足，影響生計。議會主席陳家駒表示，業內對前景感到憂慮，呼籲社會應以本港整體前途為依歸，促請立法會復會後，加快審批相關撥款。執行總監鄭定寧則稱，撥款進度不穩，時高時低，令行內「一時飽死、一時餓死」。建造業議會指，2018至2019財政年度建造工程完成量按年下跌8.4%。主席陳家駒表示，本港整體建造工程量需要每年維持2000至2500億元，按原來政府施工時間表進度，未來10年建造業將見興旺，惟7月1日立法會受破壞後，約700億元的工務工程撥款審批受阻。按就業數據、投標價格及業界意見作參考，大家對行業前景相當憂慮，而議會近日已陸續約見議員游説，期望社會以香港整體前途為依歸，維持穩定建造量，「希望盡做」。建造業議會執行總監鄭定寧稱，不少未審批工程與民生息息相關，包括葵涌及威爾斯親王醫院重建、老人院舍、橫州等公屋發展項目，受到建造量不足影響，以及撥款進度時高時低，業界「一時飽死、一時餓死」，亦難做完善規劃，他期望民生相關工程能夠盡快上馬。建造業總工會理事長周聯橋則稱，社會狀況令撥款濟後，35萬名建築工人受累，紮鐵及釘板等屬重災區，有工友開工不足，損失三分之一工資。他又稱，學徒完成學師後，亦需穩定環境培訓及發展，期望復會後可馬上審批相關撥款。建造商會第一副會長林建榮則補充稱，建造業一環扣一環，持續推動工程是必需。他又表示，近日已有大型企業開始凍薪或裁員。建造業分包商聯會主席陳劍光表示，不少二判反映市場淡靜，釘板、札鐵等前期工種相繼告急，不少中小企劈價求生存，亦憂慮前景。建造業議會促請立法會加快通過工務工程項目撥款。(陳淑霞攝）\n"
          ],
          "name": "stdout"
        },
        {
          "output_type": "stream",
          "text": [
            "\r  0%|          | 13/5023 [00:24<1:45:55,  1.27s/it]"
          ],
          "name": "stderr"
        },
        {
          "output_type": "stream",
          "text": [
            "url : https://www.chinatimes.com/newspapers/20191223000387-260208 \n",
            "category : m.ctee.com.tw \n",
            "title 特別股基金 衝高報酬有一套 \n",
            "article : 2020貿易戰降溫，股市審慎樂觀看待，但全球股市普遍處於相對高檔，未來波動程度勢必加大，法人建議，投資人若想追求股市上漲動能，又想兼顧市場下檔風險保護，可以考慮布局具「可增益資產」的新型態特別股基金，除掌握不錯的固定收益外，可增益資產若投資得宜，更可創造多重收入來源，衝高報酬。根據Lipper統計，2019年以來美股表現強勁，亦帶動以美國為主的國內特別股基金表現不俗，其中，美元計價的基金級別，普遍都有兩位數以上漲幅，若以近三個月績效表現來看，包括新光、柏瑞兩家特別股基金，績效亦贏過標普美國特別股指數，與被動操作的iShares特別股ETF。新光全球特別股收益基金經理人陳晞倫指出，今年股市驚驚漲，即將邁入2020年之際，國內特別股基金，資產配置出現變形，除核心部位配置特別股外，另衛星部位增添可增益資產，除可衝高報酬外，亦可達到整體投組的股債平衡效果。美國將於明年11月3日舉行總統大選和國會改選，根據美股歷史統計，過去總統任期的第三及第四年，皆是美股上漲機率較高的年度，2020年為川普首任第四年，美股上漲機率亦相對高，但美國進入選舉年度，美股波動度明顯加大，投資人如果擔心近期美股高檔震盪，可考慮投資具「可增益資產」的特別股基金，以降低美股波動風險，又兼顧選舉年美股上漲潛能。群益全球特別股收益基金經理人蔡詠裕表示，明年全球資金環境仍相對寬鬆、利率水準也還處歷史相對低檔際，投資人收益需求仍強勁，特別股因具有高殖利率和低波動的特性，市場續漲時同樣有機會獲取資本利得，市場修正時也相對抗跌，加上特別股股息發放亦相對穩定，多為現金配息，配發順序優於普通股。中時新聞網對留言系統使用者發布的文字、圖片或檔案保有片面修改或移除的權利。當使用者使用本網站留言服務時，表示已詳細閱讀並完全了解，且同意配合下述規定：違反上述規定者，中時新聞網有權刪除留言，或者直接封鎖帳號！請使用者在發言前，務必先閱讀留言板規則，謝謝配合。\n"
          ],
          "name": "stdout"
        },
        {
          "output_type": "stream",
          "text": [
            "\r  0%|          | 14/5023 [00:28<2:41:49,  1.94s/it]"
          ],
          "name": "stderr"
        },
        {
          "output_type": "stream",
          "text": [
            "url : https://www.wealth.com.tw/home/articles/22906 \n",
            "category : m.ctee.com.tw \n",
            "title 店面為什麼不再吃香？ \n",
            "article : 2019-11-10作者: 胡偉良▲（圖／彭世杰攝）店面「遍地插秧」！陷入「賣不動，租不掉」的困境，為什麼？長期以來，民間一直流傳出一句話：窮買房，富買店鋪！的確也是如此，能買房買店鋪的都不算窮人，但是房價卻比店鋪便宜很多，尤其長期以來一直存在着擁有店鋪就好像有一個會賺錢的啞巴兒子這樣的說法，使得不少民衆喜歡持有店面，因而店面價格存在虛高的現象。商鋪為何會陷入「賣不動，租不掉」的僵局？隨著人們生活水平不斷提高，體力勞動逐漸縮減，機械化裝置和腦力勞動得到興起，人類的角色從勞動者轉變成為「領導者」，打工不如開店和開店不如打工來回輪轉！開實體店分為兩個時期：早期經濟快速發展時期，特別是房地產行業快速發展時期，帶動了一連序列業的發展，例如餐飲、零售、製造等行業，這個時期人們都忙著製造產品、修建住宅，開店的人在這段時間賺的口袋滿滿，因為相對競爭較小，即使產品不夠好也能有不小的收穫；到了近期的全民開店時期，部分人體會到了開實體店的優勢，將不少賺來的資金投入於購買實體店面，因為有「前車之鑑」，看到過來人通過開店賺了不少錢，於是也幻想自己能成為其中一份子來分一杯羹，於是出現了大家蜂擁爭開服裝、餐飲、酒吧等實體店的情形，但最後的結果卻不如人意！商鋪「賣不動」的原因能買得起商鋪的人家裡都不缺錢，少則幾百萬，多則上億，而這批富裕的家庭在過去並不缺住房和商鋪的投資理念，親眼見證了房地產的瘋狂上漲。但是很多人以高價買入店面之後，卻發現店面的租賃效益並沒有達到預期標準，因此逐漸喪失了對店鋪的投資信心，特別是買來直接收租的業主，店舖的所有權人把店面出租給商家之後，所有的運營都是商家自己做，一旦出現商家經營狀況不好時，面臨倒閉，對業主來說會有直接影響，一來少了租金收入，除外，另覓租客也會造成不短的空租期。有錢人不再看好商鋪投資，主要在於商鋪數量增多，漸漸失去了投資的「稀缺性」，導致商鋪不再成為搶手貨，「遍地開花」的商鋪拉低了個別商鋪價值，形成了商業無法控制的局勢，前面說說的最佳開店時期租金消失，迎來的是商家之間的不斷競爭，也牽連著業主的利益。炒股、買基金既勞神又費力。尤其碰到股市下跌，很多股民叫苦不迭，有了切身經歷後，紛紛退出股市，轉而購買房產。投資風險與利益並存如何能用最少的錢買到未來升值空間最高的商鋪？這就需要投資者具有長遠的眼光，熱門的商鋪大家都會蜂擁而至，自然價格便會水漲船高。但也並不是說現在未達到一定規模的區域就是不合適的，所謂「投資」就是需要有先於別人的市場判斷。現代社會發展，無論在各行各業講究的就是快人一步，你能搶佔先機，便是最大的贏家。所謂的有長遠眼光，是要先看到未來可發展的前景才會選擇投資，那需要從哪幾點判斷一個商鋪的未來發展前景呢?商鋪如何選址？一、注意該商鋪所在街道的特點和其客流的方向與分類商業主幹道的沿街商鋪要優於交通主幹道的商鋪，街道會因為交通狀況、歷史文化、所處位置不同，而形成不同的特點。要選擇交通通暢，往來車流、人流較多的街道，避免在一條只有車流的街道上開店。同樣一條街道的兩側，由於行人的走向習慣，客流量不一定相同，要細心觀察客流的方向和客流的年齡構成等，在較多客流的一側選址。二、儘量避免在受交通管制的街道選址，店鋪門前要有適合停放車輛的位置交通方便是選擇店鋪位置的重要條件之一，但要避免選擇設定了交通管制的地方，例如單向通行、限制車輛種類、限制通行時間等等。有捷運站出入口、公共汽車站站點、或者計程車停靠點的地方都是好的店址所在。另外，店鋪門前有便於停車的地方更佳。為什麼很多商鋪，都“關門”？ 最近，不管在那裡，都可以感覺到大批商鋪「關門」 的情景，很多轉租轉讓，甚至在些頗富盛名 的商圈，為何商鋪都紛紛「關門」呢？首先要知道在網際網路快速發展的今天，網購可謂是如日中天，很多人都感覺網購可選的款式多，還可以貨比好多家，更重要的是方便，購買後只要快遞遞送就好了。這是很多商鋪「關門」的原因。第二點就是大家都知道商鋪的店面租金不便宜，每個月要交水電費用加上人工成本費用。不設門店就不用負擔那麼多成本，在網上賣東西不僅不會侷限在當地，五湖四海的朋友都可以通過網上進行交易。網上的利潤比線下商鋪的高。這就是很多商鋪「關門」的原因。第三點就是現在不再是單人作戰了，而是團隊互相幫助。像一些超市衣服化妝品商鋪都是加盟的多，這些商鋪的宣傳營銷引流各方面，都比之前那些個人開的店鋪來得好，種類款式多樣化，公司一條龍服務，這樣小商鋪「關門」的現象也是日益劇增。第四點就是人們的消費能力有限，很多人工作不僅要生活溫飽，有的還要還車貸房貸，有的還要給父母孝敬一下，還有偶爾生病、親友結婚的紅包禮金等等，因此日常開支總是能省則省。這也就最根本的商鋪「關門」的原因。台積電將大舉投資南科，在火車頭效應帶動下，南科發展潛力十足，挑戰成為全國最大科學園區。未來，產業鏈跟著連動，人才與資金也將持續湧入，南科及整個台南市都在產生化學變化，包括房地產與周邊產業的新機會也在醞釀中。    ※訂閱日期如已過出刊日(每隔週四)，將自次期開始派送。大按鍵開關，好操作1-6小時預約開機+定時關機全功能遙控、安全鎖定功能DC高效節能馬達，低耗能、壽命長通過台灣BSMI標準檢驗局試驗  同一個帳號可跨平台閱讀 (手機、平板、電腦皆可使用)訂閱雜誌可同步成為官網VIP會員，全站閱讀不設限1974年創刊的《財訊》，是台灣財經雜誌中，最資深也最權威的專業媒體。數十年來始終秉持「引領趨勢、創造財富，掌握政經、放眼國際」的核心價值，報導領域涵蓋財經趨勢、投資資訊、企業動向、產業動態、政情研判等。我們是創造兩岸三地政經投資理財議題，洞燭市場的先行者。 散戶太瘋狂 新債王岡拉克示警：美股不祥之兆TOP或使用Facebook帳號登入\n"
          ],
          "name": "stdout"
        },
        {
          "output_type": "stream",
          "text": [
            "\r  0%|          | 15/5023 [00:28<2:07:39,  1.53s/it]"
          ],
          "name": "stderr"
        },
        {
          "output_type": "stream",
          "text": [
            "url :  https://udn.com/news/story/7321/3845624  get title fail\n",
            "url : https://udn.com/news/story/7321/3845624 \n",
            "category : m.ctee.com.tw \n",
            "title [] \n",
            "article : \n"
          ],
          "name": "stdout"
        },
        {
          "output_type": "stream",
          "text": [
            "\r  0%|          | 16/5023 [00:31<2:38:01,  1.89s/it]"
          ],
          "name": "stderr"
        },
        {
          "output_type": "stream",
          "text": [
            "url : https://m.ctee.com.tw/livenews/ch/chinatimes/20191230002425-260405 \n",
            "category : m.ctee.com.tw \n",
            "title    工商時報 - 您投資理財的好夥伴   \n",
            "article : foodpanda爭議不斷，外送員今到北市府控訴，foodpanda新制規定，當外送員帳號收款達5000後，系統會停止派案，造成外送員遭停權期間無法繼續接單，導致外送員為能順利接單，還需預付款項到個人專屬帳戶就能避免停權。外送員怒控平台「你爽爽過年、我苦苦墊錢」。外送員指控，公司因周末系統更新時間僅周六晚上12時，周日及國定假日不更新，等同這段時間只要送餐代收金額超過5千元就無法再送，為了避免帳號內所收款項在下一個結算點前超過5000元，喪失接單機會，外送員只能在週五下午6點前向foodpanda預繳款項。外送員表指出，公司就建議外送員可用預匯方式避免停權，例如先預付1萬元在系統內，若接到一筆3000元就直接從錢包扣剩下7000元，直到預匯的1萬元都扣完就是負數，而負的金額達到5000元就才會是公司額度用完，「我們也是要養家活口，沒有辦法一直持續貼錢下去」。外送員表示，甚至平台日前變更內部系統，導致預繳紀錄消失，有人因而損失百元至萬元不等，儘管向公司反映也沒回應，懷疑公司有意拖延不願處理。熊貓一直處理不好系統、排班、吃錢、預儲等問題，使得非常多外送員都很困擾，而工會根本沒有要幫勞方協商的意思。委任律師陳又新表示，foodpanda建議外送員以預匯之方式避免停權，證實資方故意以操作收款機制之手段，迫使原已處於勞資關係中弱勢的外送員，除了承擔高交通事故風險，還必須以「預匯」之卑微態度求生存，foodpanda心態可議。陳又新強調，在系統轉換錯誤造成預繳紀錄漏失，foodpanda拒不返還外送員預繳的金額，公司動輒就有數千萬元的流動資金可周轉，恐違反金融監理的問題。北市勞動局勞動基準科長陳昆鴻示，目前foodpanda制度是代收代付，單從現行狀況判斷難判定是否違法，建議外送員提出勞資爭議調解，透過協商爭取權益，呼籲foodpanda全國員工超過兩萬名，應設立申訴管道，協助員工進行勞資爭議申請與調解。\n"
          ],
          "name": "stdout"
        },
        {
          "output_type": "stream",
          "text": [
            "\r  0%|          | 17/5023 [00:32<2:17:41,  1.65s/it]"
          ],
          "name": "stderr"
        },
        {
          "output_type": "stream",
          "text": [
            "url : https://news.cnyes.com/news/id/4361455 \n",
            "category : m.ctee.com.tw \n",
            "title 【倫元投顧】碎步盤堅到月底Fed降息前後 \n",
            "article : 熱搜：熱門行情最近搜尋基金老司機◆盤勢分析11000 點近關情怯，雖然美股昨晚大漲，不過台股今天仍以下跌 11 點收在 10935 點，成交量為 1319 億。來到 11000 整數關卡上下稍作震盪很正常，不過這波美股和台股的上漲，主要是事先反應預期月底 Fed 可望降息，故短線支撐約在 10850~10915，短期仍有機會碎步盤堅至下週四清晨 Fed 利率會議前後。若如市場降息一碼，則提防短線利多出盡，先拉回整理後再往上攻最後一波。9 月蘋果新機發表前後~ 9 月中下旬 Fed 利率決策會議前後要小心另一次波段回檔，因電子旺季通常在 9~11 月見高峰，而股價通常至少領先一季左右見到波段高檔。王信傑 分析師★ 此研究報告著作權屬倫元證券投資顧問 (股) 公司，切勿盜用或翻印，否則追究責任，決不寬貸\n",
            "★ 所有資料僅供參考，本公司不負盈虧責任\n"
          ],
          "name": "stdout"
        },
        {
          "output_type": "stream",
          "text": [
            "\r  0%|          | 18/5023 [00:33<2:03:34,  1.48s/it]"
          ],
          "name": "stderr"
        },
        {
          "output_type": "stream",
          "text": [
            "url : https://news.ebc.net.tw/News/Article/162125 \n",
            "category : m.ctee.com.tw \n",
            "title 涉捲款25億落跑！炒房名師誆「黃金粉末賣印度」 \n",
            "article : 自稱房產幽默大師的王派宏，涉吸金捲款25億落跑！他自稱炒房專家，在全台授課分享理財，卻遭指控，4月28號突然聯繫不上，也沒上課，顧問公司以為他發生危險立刻報案，但人卻已經離開台灣，被害的投資人懷疑，王派宏已經捲款，急忙報警追人。 自製youtube頻道，還自稱是房產幽默大師，他是王派宏，不只在網路分享炒房術、如何理財甚至全台跑透透開課，有8千多名學員，這回卻爆出，涉嫌吸金捲款落跑25億。 ▼自稱房產幽默大師的王派宏，涉吸金捲款25億落跑！（圖／東森新聞）\r\n",
            "被害人小吳：「他有提到從台灣，帶黃金到印度，ㄧ個月會有3%（分紅），除了他介紹以外，透過很多學員都已經開始投資，而且過去2、3年都ok，都有如期拿到利息，的確有固定利息，從小金額100多萬，到後面越投越多，老師也一直鼓吹，所以投到後來變1千多萬。」 40多歲的受害人，因為遭裁員決定把畢生積蓄，拿去投資黃金變粉末賣到印度，尤其王派宏還鼓吹學員，甚至還簽了本票讓所有人深信不疑。 ▼自稱炒房專家，在全台授課分享理財，卻遭指控4月28號突然聯繫不上。（圖／東森新聞）\r\n",
            "被害人小吳：「有跟我們看工廠的狀況，有看到實際的，每個月有拿到利息，外面很多投資案，第一個他是老師，很多學員畢竟時間很久了也有出過書，被人家採訪過，他又開本票，其他投資案沒有的，給了我們很大的放心。」 ▼知名度加上人人說好，以為是一線希望反而血本無歸。（圖／東森新聞）\r\n",
            "顧問公司也透漏，不少學員和員工都是受害者，如果學員上課受影響需要退費會幫忙處理，這回誆稱投資卻遭指控吸金大會，被害人只希望能盡快他們口中的王老師，能夠盡早面對。\r\n",
            "（封面圖／東森新聞）\n"
          ],
          "name": "stdout"
        },
        {
          "output_type": "stream",
          "text": [
            "\r  0%|          | 19/5023 [00:36<2:26:54,  1.76s/it]"
          ],
          "name": "stderr"
        },
        {
          "output_type": "stream",
          "text": [
            "url : https://www.mirrormedia.mg/story/20191219fin001/ \n",
            "category : m.ctee.com.tw \n",
            "title 【小股東住套房1】牛仔褲大廠小股東控訴　如興股價被干擾害他慘套牢 \n",
            "article : 全部類別\n",
            "    \n",
            "      全部類別\n",
            "    \n",
            "    全文朗讀\n",
            "  \n",
            "    00:00 / 00:00牛仔褲大廠如興去年因為併購玖地案，被立委黃國昌盯上，本刊日前接獲檢舉函，一名小股東顧先生出面訴苦，他是如興小股東，長期持股如興，他懷疑去年如興遭立委黃國昌爆料後，股價疑似遭干擾，希望證券期貨局能去調查，以維護小股東權益；證期局表示，已收到檢舉函，將會對此進行了解。顧先生指出，他是如興小股東，長期持股如興，去年立委黃國昌爆料後，如興股價大受影響，觀察融券市場，都有大量借券交易，「我懷疑幕後有人利用委員在操作股價，害我持股慘遭套牢。」顧先生指出，他2015年從媒體得知如興要併購玖地後，認為如興有機會，因此進場買股，沒想到至此一路套牢，讓他忍不住跳出來，希望證期局能對如興案調查，以維護小股東的權益。「像去年6月的時候，黃國昌委員開記者會，如興當天借券量就爆增250張，6月的融券張數也才421張；7月的時候黃委員在臉書爆料，當天如興又爆增2500張的融券，7月的融券張數也才3645張，我懷疑幕後有人操作股價。」顧先生說。觀察如興股價，自2016年3月站上28.25元的近年新高後，一路走跌，今年8月一度來到10.2元的歷史低點，險些跌破票面價，近來股價才回穩，截至上月底才站上11.95元。如興今年結束連4年虧損，由虧轉盈，前3季每股獲利0.18元，每股淨值14.58元。面對小股東檢舉，金管會證期局表示，已收到檢舉函，將會對此進行了解；如興則對此表示，尊重小股東權益。\n",
            "        更新時間｜2019.12.19 16:23【小股東住套房2】如興從併購轉賣資產　專家：把台灣當控股中心【小股東住套房3】如興暫緩腳步為哪樁？　陳仕修：只是調整營運策略相關關鍵字：\n"
          ],
          "name": "stdout"
        },
        {
          "output_type": "stream",
          "text": [
            "\r  0%|          | 20/5023 [00:38<2:49:24,  2.03s/it]"
          ],
          "name": "stderr"
        },
        {
          "output_type": "stream",
          "text": [
            "url : https://news.mingpao.com/ins/%e6%b8%af%e8%81%9e/article/20191005/s00001/1570236315969/%e5%a4%a9%e6%99%b4%e4%b9%be%e7%87%a5-%e6%9c%80%e9%ab%98%e6%b0%a3%e6%ba%ab32%e5%ba%a6 \n",
            "category : m.ctee.com.tw \n",
            "title å¤©æ´ä¹¾ç¥ãæé«æ°£æº«32åº¦ (08:32) \n",
            "article : ä¸å8æå¤©æå°éå¾æ°£æº«27åº¦ï¼ç¸å°æ¿åº¦ç¾åä¹75%ãéå»ä¸å°æï¼äº¬å£«æéå¾çå¹³åç´«å¤ç·ææ¸æ¯0.5ï¼å¼·åº¦å±¬æ¼ä½ãè¦èè¯åçé«ç©ºåæ°£ææ­£çºè©²åå¸¶ä¾æ®éæ´æçå¤©æ°£ãé æ¸¬ä»æ¥å¤©æ´çç±ï¼æ¥éä¹¾ç¥ï¼å¸åæé«æ°£æº«ç´32åº¦ï¼æ°çåé«ä¸å©åº¦ï¼å¹è¼å¾®è³åç·©åæ±é¢¨ãå±æææ¥åéé½ç¯æé©é¨ï¼é¢¨å¢è¼å¤§ï¼å¤©æ°£ç¨æ¶¼ã\n"
          ],
          "name": "stdout"
        },
        {
          "output_type": "stream",
          "text": [
            "\r  0%|          | 21/5023 [00:39<2:15:19,  1.62s/it]"
          ],
          "name": "stderr"
        },
        {
          "output_type": "stream",
          "text": [
            "url : https://www.chinatimes.com/newspapers/20190809000478-260208 \n",
            "category : m.ctee.com.tw \n",
            "title 嘉藥 唯一私校入榜二千大 \n",
            "article : 世界大學排名中心（CWUR）日前公布2019～2020年全球前二千大高等學府排名，台灣共有40所大學入榜，其中，嘉南藥理大學是唯一獲選的私立技職校院，成為全球前10％的卓越大學，消息傳來，全校師生雀躍不已。世界大學排名中心今年從超過2萬所全球高等教育機構中，評選出2,000所頂尖大學，此次台灣入選的40所大學榜單中，嘉藥是唯一獲選的私立技職大學，位居全台第37名、世界第1,840名，擠身全球前10％卓越大學之林。該中心強調，此排行榜是根據客觀資料分析各大學辦學績效，評選項目包含教育品質25％、校友就業表現25％、教師質量10％，以及論文發表數、論文發表品質、論文影響力與引用率各10％等七大衡量指標。該校表示，嘉藥積極推動技職教育，成效卓著，連續多年榮獲教育部教學卓越、高等教育深耕、優化技職校院實作環境、深耕專業技術研發與人才培育等計畫補助，2017年更獲選成立全國唯一「分析檢測人才培育暨區域技術聯盟基地」，今年申請通過勞動部補助的就業學程達17案，也榮登全國第一，嘉藥不斷精進研究與實務教學，碩果有目共睹。嘉藥校長陳鴻助指出，此次喜獲國際殊榮，對嘉藥的辦學績效是一大肯定，未來除了持續深化學生實務增能，鼓勵同仁研究發展外，更將努力與國際密切接軌交流，以強化國際競爭力。中時新聞網對留言系統使用者發布的文字、圖片或檔案保有片面修改或移除的權利。當使用者使用本網站留言服務時，表示已詳細閱讀並完全了解，且同意配合下述規定：違反上述規定者，中時新聞網有權刪除留言，或者直接封鎖帳號！請使用者在發言前，務必先閱讀留言板規則，謝謝配合。\n"
          ],
          "name": "stdout"
        },
        {
          "output_type": "stream",
          "text": [
            "\r  0%|          | 22/5023 [00:41<2:33:35,  1.84s/it]"
          ],
          "name": "stderr"
        },
        {
          "output_type": "stream",
          "text": [
            "url : https://www.bnext.com.tw/article/54860/tappay-crosssite-fintech \n",
            "category : m.ctee.com.tw \n",
            "title \n",
            "1\n",
            "                    大敵在前告別單打獨鬥，台灣電商攜手AI新創來為自己「換裝上陣」   \n",
            "                 \n",
            "article : 流量紅利衰退，迫使電商產業檢視自身體質是否健全。商業戰場不等人，有時與其「吃補藥」自己趕研發，與AI新創合作，讓他們協助幫你「裝子彈」，才真正有效。沒有了流量紅利，電商的三個難題必須仰賴哪些「科技子彈」？網路流量紅利退潮，用戶獲取成本變高，電商要想繼續成長，單打獨鬥已不是選項。要在變化激烈的電商市場上存活，與AI新創合作，添購「科技彈藥」，已是必然的趨勢。有著「網路女王」稱號的瑪麗・米克（Mary Meeker）在今年六月發佈的《2019年網路趨勢報告》中指出，獲取一個使用者所需花費的廣告成本，從2017年底的30美元，上升到了2018年底的50美元。對此，米克對全球電商釋出了警訊：用戶的獲取成本若是長時間超過用戶終身價值，將會造成營運的危機。流量紅利不再、網路廣告越來越貴，台灣電商界在經歷了Facebook演算法的調整、LINE的收費調漲後，也深深地感受到威脅。創業家兄弟共同創辦人郭家齊回想2016年松果購物剛成立的時候，電商還是一個熱門的創業項目。如今現況卻使得新創團隊不敢貿然踏入火坑，電商新創也越來越難得到創投青睞。要突破困境，答案就在那些以AI及新科技應用為火藥，為電商增添子彈的新創服務供應商身上。培育了許多新創團隊的AppWorks，就建議台灣的電商平台，得開始招兵買馬了。「過去流量紅利的年代，許多電商都過得太爽了，」AppWorks合夥人程九如說。他指出，現在全球電商已經進入高科技大戰的時代。大家要開始去想，未來若是亞馬遜、阿里巴巴這種國際級電商挾帶著他們的科技研發能力以及營運的SOP來到台灣，本土的電商要怎麼去應戰？因此，程九如認為， 台灣主要的電商平台要更大步、更有效率地和AI新創合作，才能因應此刻的變局。程九如表示，未來的電商將要面臨三大挑戰，而這些挑戰之中，電商與AI新創的結合都將是關鍵。 第一，電商必須跨境 ，因為唯有跨境才能拓寬市場。程九如表示，台灣電商要出海，東南亞會是優先的選擇，因為他們和台灣的技術差距還有兩到三年，而且相較起台灣15%的電商市佔率，東南亞國家才約2至3%，有很大的發展空間。然而擁有相對優勢，卻不代表我們有絕對優勢。「全世界都帶著自己最新的技術去那裡做嘗試，我們要搶進，也必須有科技上的實力，」程九如說。第二，電商必須搶攻新通路，提升穿透率。 穿透率顧名思義，就是指一間企業能否進到一個新的通路裡。程九如認為，物聯網時代來臨，未來電商要不要進到語音助理內？要不要進到廚房、臥室、客廳等萬物聯網後的多元消費場景裡？進到物聯網內的技術基礎，就是電商要跟新創合作的部分。第三，就是透過AI，來滿足客戶在服務的優化及客製化方面的需求。 這也是程九如認為大的電商平台必須積極與小的AI新創作整合的原因——因為小新創有想法卻沒有數據，難以訓練出好的AI，大平台有數據卻沒有AI研發的能力。兩者如果不能合作，就難以作出個人化服務。「Google、Microsoft的企業文化不同，他們會舉辦黑客松、開放數據素材資料庫讓大家做應用的創新，同時也讓他們有機會從中挖掘優秀的專案。我們希望能看到台灣也有大企業能站出來，開放部分資料也好，讓新創團隊來一起解決問題、創造新的價值，」程九如說，「這是台灣目前最需要看到的事情。」至於所謂AI新創團隊，能夠在哪些方面為電商「添子彈」？《數位時代》專訪了三間團隊，各自聚焦在SEO及推薦系統優化、金流服務簡易化，以及提供聊天機器人服務等不同面向。透過AI為電商提供SEO優化服務的阿物，近來研發出了一款新的AI智能標籤系統「Cupid」，有別於一般以text-mining為網站用戶進行AI標籤分群，Cupid將AI演算法的分析主體放在產品身上，將推薦的精準度從以「人」為主的AI的50到60%，提升到了高達90%，不只獲得台灣電商的青睞，日本、印尼都在期待他們的服務。曾獲得2017年KPMG百大FinTech殊榮的金流串接公司TapPay，則是從「便利」與「資安」兩個角度出發，來優化電商的金流服務。他們全台唯一的Cross-site技術，讓用戶在結帳時無需跳轉，使交易成交率提升2到3成。他們配合國際發卡組織推行的資安驗證機制，也讓電商客戶在享有資安保障的同時，還能降低客戶的跳轉率。擁有逾百間企業及品牌電商客戶的High5，則是台灣少數投入AI系統，同時提供無人客服以及行銷企劃服務的聊天機器人公司。他們認為聊天機器人不只是一個新管道、更是一種新的通路，能透過大數據分析從聊天內容中擷取電商在網站上無法得到的數據外，直接面向大眾的特性，也讓High5不只是一個技術供應商，同時也扮演了用戶的行銷策略夥伴的角色。「以前架個網站、寫個App、發個廣告就能經營電商，但現在不行了，」程九如說。現在，電商就好比RPG遊戲中的主角，在上戰場前必須先去武器行換上最好的裝備，才有能力破關斬將、打倒大魔王。或許我們可以這麼說——電商單打獨鬥的日子，已經遠遠地過去了。責任編輯：蕭閔云每日精選科技圈重要消息「我們目標在五、六年以內，成為一間市值三千億的公司，告訴我們這個世代的台灣人：我們是有能力在國際間成為一隻獨角獸的。」阿物株式會社創辦人林思吾表示。阿物的自信心並非無中生有。這間透過AI提供SEO優化服務的公司，在今年年初得到了150萬美元的Pre-A輪投資，並花費約一年半的時間，結合產學界菁英研發出新的電商AI標籤系統「Cupid」（邱比特）。這款即將於下個月正式推出的智能標籤服務，剛在日本某大電商進行完前導測試，數據的結果令人矚目—— 該電商在轉換率部分成長了73%，平均客單價也上升了20%。 這不僅讓屈臣氏香港總部都派人來了解，就連印尼電商獨角獸Tokopedia也成為了他們的客戶。為何一間主要幫電商做SEO的公司，能引來眾多國際電商及品牌的目光？這跟電商產業在近年來遇到的危機有很大的關係。林思吾說，過去三、四年來，不只是台灣的電商，就連中美也都享受過很大量的流量紅利。但後來Facebook演算法調整、LINE的漲價，使得新客群的成本越來越高。「全球電商目前共同遇到的三個難題，分別是 如何有效導入新客、活化停滯轉換率、提高客戶終身價值。 這些也是阿物正在解決的問題，」他說。阿物提供的三大服務項目，正式切合了這三個主要問題。在導入新客方面，阿物提供了他們長期經營的SEO關鍵字搜尋優化、Google ads廣告關鍵字優化以及內容行銷優化等服務；在提升轉換率上，則有智慧型標籤Cupid系統來加值；最後在提高客戶終身價值上，則有AI驅動的EDM郵件行銷系統TigerFly來加強回購。「從導客、促進成交到回購，我們都做好了，」林思吾笑著說。其中，智慧型標籤Cupid系統可說是阿物最新的重量級武器。林思吾說，客戶在進到電商網站的首頁時，通常會透過分類標籤進到他們想要的商品頁面，最後再連進購物車結帳。但實際上，客戶從進場到最後結帳的流程，路徑其實是很混亂的，途中客戶也會不斷流失。「如何讓消費者的購物流程盡可能成為一條直線，變成很重要的事情，」他強調。在過去沒有AI推薦系統前，電商網站上的產品分類是由產品經理來決定的。但阿物想做的，是讓這個分類變成「User-driven」，依照各個用戶的不同需求來做調整。當然，電商導入AI做客製化推銷已非新鮮事，但Cupid特別的地方在於， 許多AI公司在做的是「人」的AI標籤，但Cupid著重的是「物」的AI標籤。「人」與「物」的出發點有何不同？做「人」的AI標籤，可以透過搜尋詞的使用頻次來估算某個人的喜好，依此來為用戶進行分眾。不過，客戶就算可以分成200多種客群，電商的商品種類卻可能高達8,000多種，精準度究竟能到多高，值得再進行商榷。再者，人的喜好是會改變的。大數據或許可以預測某人過去的消費經歷，卻難以猜測客戶現在所處的消費情境是什麼。或許他的心智狀態改變了、或許他想嘗試過去自己沒試過的穿衣風格，這些都會是以人為AI分析本體會碰到的侷限之處。「所以，大數據推薦給你的，常常都是你已經買過了的東西，」林思吾說。因此阿物認為，要更準確評估消費者的購買情境，就需要針對「物」做AI標籤。舉例來說，今天若是在販售一個名片夾，阿物不僅會標註名片夾的外觀特徵，還會提供一些情境，像是「禮物」、「文青用」等字詞。當用戶進行輸入相關搜尋詞時，Cupid就可以整理出和該搜尋詞相關的商品，整理成一個子分頁讓用戶可以更快找到相關用品。也就是說，每個用戶在電商上看到的分類標籤，都會有所差異。「我們讓商品可以彼此說話、互相連結，並讓電商網站成為一個以用戶為主的『策展』規劃，」 林思吾說。事實上，這個智能標籤的技術還有很多的應用方式，阿物目前也計畫將它與EDM、Facebook廣告以及LINE Push結合，讓電商可以在不同管道上，都能做出更精準的推薦。當然，「物」的AI並不好做。為研發這個Cupid系統，阿物招攬了有「全台灣最會發EDM的男人」之稱的飛信資訊共同創辦人李振瑋、北京慧智深學首席人工智慧科學家林國銘以及前台大數學系教授劉瓊如一同合作，加上超過50位AI研發團隊成員，耗時一年半左右才成型。「一般品牌電商很難具備這部分的IT能力，因為品牌的核心能力為如何拿到獨家以及低價商品，想同時兼顧兩者不容易，」林思吾表示，「這種重科技武器通常只有亞馬遜、ebay和阿里巴巴這種國際大廠才有。但我們有辦法可以提供。」目前阿物的一大目標，就是要成功達成在日本上市的目標。「你知道嗎？台灣電商消費佔比大約10到15%、中國將近20%，日本卻只有6到7%。這顯示日本實體零售業的抵抗是非常頑強的。」林思吾說。他進一步表示：「此外，日本的廣告市場約為台灣的十倍大，但日本數位廣告的數量佔比才30%左右，不論是台灣、中國還是美國，數位廣告佔比都已經超過50%了。從全球趨勢來看，日本電商市場反應出來的數字是不合理的。不久的將來，這個市場肯定會有劇烈的變化。時間點何時到來我們還不確定，所以我們得要先搶進日本，做好準備、等待時機。」林思吾的腦海裡，還有對阿物更長期的藍圖規劃。他希望著重發展台灣、日本及印尼三個市場，將他們連成一個鐵三角。對他來說，台灣是很好的實驗場，對失敗的容忍度很高；日本電商市場爆發指日可待，資本市場對科技新創高度友善；印尼因國土分散電商產業發達，2.6億人口將是公司規模化的關鍵市場。而這三個市場加總起來，將可以做出總量體大過於中國及美國的東亞生態圈。截至目前，阿物總共募得了3百多萬美元，明年第一季將進入B輪融資。林思吾說，目前他們也在計畫要併購一些台灣新創，帶著他們一起到日本上市。「如果我們能在日本成為獨角獸，我們一定可以激勵我們這個世代的台灣年輕人。 而現在時機對了。我們趕上了時代的浪潮。 」他信誓旦旦地說。如何助益電商：\n",
            "\n",
            "  1. 以「物」為AI分析主體的Cupid系統，可根據客戶使用的關鍵字，客製化用戶在電商網站內的分類頁面，提供更精準的商品推薦。\n",
            "\n",
            "  2. AI驅動的EDM系統，加強傳統的E-mail行銷，讓客戶收到精準客製化的產品型錄。責任編輯：蕭閔云每日精選科技圈重要消息金流系統是否便利、客戶的信用卡機密資料是否安全，始終是電商注重的部分——好不容易挺過了從進站、選購到下單的層層關卡，若是因為金流服務不到位而在最後一關流失客戶，未免也太得不償失。因此，如何在電商金流頁面上針對信用卡的支付流程以及風險管理進行優化，進而提升轉換率，成為了電商的重要戰役。成立於2015年，擁有Yahoo、PChome及瘋狂賣客等大型客戶的金流串接公司喬睿科技，便透過旗下的TapPay支付平台，著力於「便利」與「資安」兩大重點，為電商裝填強勁的金流「彈藥」。TapPay研發出了全台唯一的「Cross-site」免跳轉技術，加速結帳流程，降低了結帳的跳出率；TapPay並接軌Visa、Mastercard等國際發卡機構，透過AI及大數據的分析，讓客戶不僅無需動手調整、甚至在「無意識」的情況下，進一步替客戶鞏固了個資安全。對於使用信用卡在電商上結帳的用戶來說，多少遇過這樣的情況：在點選信用卡結帳跳出另一個銀行的視窗，要求你在那裡輸入信用卡資料。喬睿科技副總經理廖宗綸發現，因為人們操作的平台很多都不太一樣，電腦、手機、平板都有，有時視窗的格式不一，導致用戶很難進行輸入，就會索性放棄購買。其實，網路研究公司Baymard Institute在今年做的新研究報告就指出，美國電商用戶在電商金流頁面跳出的前五大原因中，複雜或冗長的結帳流程就是其中一項。電商急於解決此問題，但只靠自己卻很難做到。為什麼？因為電商自己開發金流串接的成本非常高。舉例來說，如果一間電商想串接四個不同的行動支付，後面再接上三間不同銀行，他總共得自己串出共12種不同的組合。流程繁複外，若要在網站上存取卡號讓客戶不用重複輸入，還必須通過PCI DSS（支付卡產業資料安全標準）的稽核，而那通常需要花到百萬以上的營運費用。銀行方面也很難提供支援，因為很多銀行受金融法規限制，在技術創新上面速度比較慢。對此，廖宗綸表示，他們作為金流串接公司，就是在商店與銀行中間，提供一些創新的技術，許多電商也因此選擇與他們合作。至於有什麼代表性的創新技術？廖宗綸表示，TapPay所提供的「Cross-site」的技術，就是一大利器。當用戶在電商金流頁面結帳時，時常會被跳轉到銀行的頁面來輸入信用卡卡號。而跳轉過程中一旦某個步驟出了問題，就可能導致客戶不耐煩而跳出，導致訂單流失。而 導入「Cross-site」的技術，就能讓用戶毋需跳轉頁面，使交易成交率提升2到3成。除此之外，TapPay也從行動支付的線下消費場景中，發現了一個現象。平時在電商的金流結帳頁面，即便顧客有在頁面上存取信用卡資料，也只能看到卡號、而不是整張卡的卡面。但是當用戶在使用Apple Pay等行動支付工具結帳時，打開介面後，用戶卻可以直接看見每一張卡的卡面。這個看似普通的功能，實際上卻讓用戶可以很快地找出自己想要累積點數、使用紅利的特定信用卡，因而大幅提升成交率。因此，TapPay也將這個功能帶到金流串接服務中，提供更貼心的使用者體驗。風險的保障也是TapPay的重點服務。隨著Visa、Mastercard等國際發卡機構帶頭推廣代碼化以及3D驗證2.0，TapPay也積極跟進，目前已經提供了代碼化的服務，3D驗證2.0則將於明年第一季正式推出。何謂代碼化？簡單來說，就是另外提供一組16碼的代碼來取代真正的信用卡卡號，讓信用卡不會因資料在商家、收單機構、支付系統的傳送過程中因為遭駭而被盜取，因為即便代碼遭竊，有心人士也無法拿來利用，而且用戶也無須因代碼被盜而停卡——只要再申請另一組代碼即可。而信用卡的3D驗證，就是結帳時要求用戶另外用手機驗證碼確認身份的驗證流程。廖宗綸指出，3D驗證的掉單率非常高，因為一旦裝置有問題、沒收到簡訊等狀況，交易便會失敗。而3D驗證2.0則將大幅簡化這個流程。他透過AI及大數據的應用，搜集客戶的消費習慣，進而確認每一筆消費是否是本人。根據國際發卡組織的統計， 每一百筆消費中，有95筆確定是安全的。3D驗證2.0就是只針對那5%的非正常消費，進行簡訊驗證。 這對許多想要客戶存取信用卡卡號，加速下單流程的電商來說，是一大福音。「這幾年來電商興起，線上交易越來越流暢，同時盜刷的風險也開始讓許多商家感覺到痛，」廖宗綸說，「就趨勢來看，我們認為2019年是風控元年。對資安風險的掌握將是電商不可或缺的一部分。」\n",
            "  1. Cross-site免跳轉技術，簡化刷卡結帳流程，提升電商轉換率。\n",
            "\n",
            "  2. 信用卡代碼化與3D驗證2.0，保障信用卡的資訊安全，並結合AI與大數據分析用戶消費習慣。責任編輯：蕭閔云每日精選科技圈重要消息搜集用戶行為、記錄各種資料，是每個電商都亟需掌握的絕活。然而網站上的足跡能夠提供的資訊有限，越來越多的電商開始希望從用戶的文字中分析他們字裡行間透露出來的訊息，進而得到更精準的推銷。用AI分析用戶的留言訊息，提供品牌電商客戶深入的分析見解，正是聊天機器人新創公司High5的主要業務之一。High5創辦人朱賢浩表示，當前台灣的聊天機器人市場上，主要有兩種業者，一種是專門透過AI為廠商提供客服的功能，另一種則是專注於透過聊天機器人做行銷策劃。 「High5是少數綜合了兩種服務的公司，」 他說。也因此，這間成立約三年的新創，已囊括了超過一百間企業及電商客戶，讓聊天機器人不只是一個工具，更成為了電商瞭解客戶的新管道。而這個新管道，也逐漸吸引了更多品牌的目光。「過去幾年我們的客戶主要都是中小型電商，希望透過聊天機器人來做客服的服務。現在我們的服務對象有很多則是實體零售品牌，開始轉戰線上電商，希望我們幫忙把線下流量導到線上，」朱賢浩說。前兩年聊天機器人剛在台灣的社群媒體上興起時，人們對它的印象，多半在於它能透過客服的功能減少企業的人力成本。但隨著聊天機器人的應用趨向多元、技術也漸漸提昇，越來越多品牌電商也發現，採用聊天機器人還有另外兩大好處：搜集客戶資料、以及建立品牌形象。這個現象不僅限於台灣。CRM國際大廠Salesforce也在今年做了調查，發現有53%的美國受訪企業表示未來一年半內有導入聊天機器人的計畫，而這個數字在前一年只有38%。許多客戶採用聊天機器人，就是希望它能分析用戶在Facebook以及LINE上面的純文字訊息。舉例來說，High5可以透過AI標籤的技術，從用戶的字裡行間推斷出他們的身份，進而了解他們要購買某個產品時，通常會問哪些問題，或者在乎哪些資訊。這件事情在流量紅利消退、LINE的收費漲價後顯得特別重要，因為每條訊息都是成本，每間企業都在思考，該如何更精準地進行推播。此外，朱浩賢也發現，越來越多客戶開始差異化經營他們在Facebook和Line上面的聊天機器人，以不同的策略來提升效益。「LINE的特性是年齡比較高、但黏著度比較強，Facebook的客群則比較年輕。因此，許多企業電商開始先透過Facebook做曝光，再引導客戶加他們Line的官方帳號，以LINE來做深度互動，」他說。「策略化地經營、並快速去瞭解客戶需求是很重要的；不然我們如果一直推播他們不需要的資訊，不僅浪費錢，也很快就會被封鎖了，」朱浩賢強調。作為台灣在聊天機器人產業中的先驅，High5共同創辦人余淑佩表示，他們不排除未來會往海外市場拓展，但現階段將會全力著重於台灣市場。 「我們其實覺得台灣市場挺大的，」 她語出驚人地說。身處於中國、日本及東南亞等有著巨大量體的市場的交接處，「台灣市場很小」的想法已是各大產業之間的共同感受。但對於剛起步不久的聊天機器人市場，High5認為還有非常多尚未被挖掘的地方。很多品牌電商都還在思考，自己該如何利用聊天機器人這個特別的管道。也因為聊天機器人尚未被定型，High5就利用它發揮各項創意，協助企業經營品牌形象。舉例來說，美容品牌牛爾親研就透過High5，與明星畢書盡做了一檔「愛情診療室」的活動，透過「模擬約會」的互動模式推廣產品；圖文不符也在High5上結合自己的線上課程，打造了真人到府上課的聊天體驗。「以前，我們的用戶大多是直接把產品放在網站上的中小型電商；現在，好像只要有品牌的企業就必須要變成電商，因為沒有人會不去在意網路上的流量了，」余淑佩說，「因此，客戶在網路上投入的預算就大幅提升，開始在意過往的客戶資料以及互動的趨勢等。」這樣的變化，使得聊天機器人從一個單純的、面向客戶的新管道，變成一個必須細心經營的戰略夥伴。 「很多客戶都直接跟我們討論一整年的品牌行銷企劃，讓我們一同合作完成，」 余淑佩說。如今聊天機器人已經慢慢崛起了。余淑佩表示，三年前公司剛成立時，High5大概只有5個競爭者，今年年初開始，他們發現市場上雨後春筍般出現了20幾家新的聊天機器人公司。「很多我真的沒有聽說過，」她說。認為台灣的聊天機器人市場還有巨大成長空間的High5，認為未來幾年會看到幾個新的趨勢：第一個就是AI的應用。朱賢浩說，最初聊天機器人公司並沒有太多AI，但隨著風向改變，聊天機器人也勢必更加著重於個人化的推薦，並加強引導購物的功能。第二，除了推薦給用戶喜歡的東西，聊天機器人也會告訴他「大家」喜歡的東西，例如最多人買的產品是什麼、最多人吃的餐廳是哪一間，擔任起「隨行助手」的任務。「我們不希望客戶花太多的資源與時間去搞懂怎麼操作聊天機器人。我們現在在做的，就是不斷從營運數據中做歸納、優化，提供客戶最適合他們的模組，讓他們可以快速執行，」朱賢浩說， 「聊天機器人是可以做得很深的。我們也不斷在挖掘新的可能。」\n",
            "  1. 有別於電商網站追蹤客戶點擊路徑，聊天機器人能從對話文字中分析網站拿不到的資訊。每日精選科技圈重要消息服務時間：週一～週五：09:00~12:00；13:30~17:00\n",
            "                        10694台北市光復南路102號9樓\n"
          ],
          "name": "stdout"
        },
        {
          "output_type": "stream",
          "text": [
            "\r  0%|          | 23/5023 [00:43<2:40:07,  1.92s/it]"
          ],
          "name": "stderr"
        },
        {
          "output_type": "stream",
          "text": [
            "url : http://news.ltn.com.tw/news/society/breakingnews/2920533 \n",
            "category : m.ctee.com.tw \n",
            "title 倒「ㄆㄨㄣ」又揹農藥桶噴不明液體 惡鄰恐嚇鄰居判刑2月 \n",
            "article : 為達最佳瀏覽效果，建議使用 Chrome、Firefox 或 Microsoft Edge 的瀏覽器。爆吳男揹著農藥桶噴霧桶噴鄰居。示意圖。（資料照）〔記者王定傳／新北報導〕52歲吳姓男子因裝潢施工問題與鄰居相處不睦，竟連續3天在樓梯間倒廚餘，他因此被罰1萬元後，仍不知悔改，改揹農用噴灑器，朝陳姓與黃姓住戶噴灑不明液體，其中一名被害者至今仍會做惡夢，吳男否認犯行，新北地院不採信，依恐嚇危害安全罪，判他2個月徒刑，可上訴。檢警調查，2017年底，吳男買下新北市永和區某頂樓舊公寓後，想裝潢成套房出租，因裝潢工程未經許可被鄰居檢舉；去年5月，他為報復鄰居，連續3天在1至4樓樓梯間傾倒廚餘，法院認定吳男所為已違反社會秩序維護法中的「藉端滋擾住戶」裁罰1萬元。請繼續往下閱讀...吳男仍不知悔改，去年10月23日，改揹農用噴灑器，朝著陳、黃兩位鄰居噴灑不明液體，2人嚇傻，其中一人至今仍會因此做惡夢，整個晚上都無法入眠，另一人則說很害怕吳男噴灑農藥，擔心生命或健康受到危險。檢方偵辦時，吳男辯稱，噴灑的不明液體只是水，由於檢方無法證明噴出的不明液體對人體有害，僅能依恐嚇危害安全罪嫌起訴；審理時，他仍辯稱沒有噴灑不明液體，亦無恐嚇之意。不過，除被害者指證歷歷外，法官還查出，吳男之前就曾與不明男子在樓梯間噴灑農藥，另外，勘驗案發時監視器畫面可知，陳姓女住戶當時背著幼童走下樓梯，吳男卻朝她及空中高舉噴灑器噴頭，被害者立即以手遮住幼童口鼻並折返，吳男仍持續朝她的方向及空中高舉噴灑器噴頭。法官判定，吳男藉由噴灑不明液體方式恐嚇住戶，顯見其自我情緒管理能力及尊重他人法益法治觀念，均待加強，犯罪後矢口否認犯行，未與被害者和解，判刑2月，可上訴。\n",
            "                    桃市交警進駐武陵、青溪及龍安3派出所 優化交通事故處理效能                                    \n",
            "                    9/8 今彩539開出3注！ 獎落台北文山、中山區                                    \n",
            "                    旅館醒來一絲不掛…女遭迷姦 報警驚知惡狼竟是男友                                    \n",
            "                    一銀盜領案外籍犯出獄 移民署晚間驅逐出境                                     2020年9月9日‧星期三‧庚子年七月廿二日自由時報版權所有不得轉載© 2020 The Liberty Times. All Rights Reserved.熱門推播\n"
          ],
          "name": "stdout"
        },
        {
          "output_type": "stream",
          "text": [
            "\r  0%|          | 24/5023 [00:47<3:12:39,  2.31s/it]"
          ],
          "name": "stderr"
        },
        {
          "output_type": "stream",
          "text": [
            "url : https://udn.com/news/story/6809/4188069 \n",
            "category : m.ctee.com.tw \n",
            "title 華郵：壞消息不斷 習近平焦頭爛額 \n",
            "article : 華盛頓郵報報導，壞消息引發外界揣測中國領導班子承受巨大內部壓力，尤其時值美中貿易戰似難很快獲得解決。\r\n",
            "習近平雖取消國家主席的任期限制，讓自己能無限連任，但不像能完全掌握住局勢，儘管他透過宣傳「習近平思想」，大搞個人崇拜，並大舉打貪反腐導致逾150萬官員落馬。\r\n",
            "聚焦中國事務的內參部落格共同主編姜雲（Yun Jiang，音譯）說：「體系裡洩密的事相當罕見，但並不代表領導階層處於危機或團結弱化。」\r\n",
            "然而，事態發展仍不利中國。關於新疆，顯然至少有一名高階官員打抱不平，甘冒風險將資料交給外國記者──最初提供給紐約時報，後來又有國際調查記者聯盟經手。這些資料顯示中國想漢化西部地區維吾爾穆斯林少數民族，整個體系由習近平親自下令。\r\n",
            "澳洲共諜案較為複雜。王立強自稱替中國軍情單位滲透香港，負有干預台灣2020年大選、推翻蔡英文的任務，澳洲表示會認真看待他的說詞，但部分專家指前後矛盾多，更別提假護照製作太外行。\r\n",
            "在香港，經過6個月示威後，中國仍對林鄭月娥表達支持。但有人認為港府應提早採取更嚴厲的行動鎮壓示威。天津南開大學教授李曉兵說：「香港在發高燒，選舉是反映香港社會體溫的溫度計。港府的作為相當溫和，早該採取行動鎖定反對派，卻沒有這樣做，反而讓反對勢力有機會『蹬鼻子上臉』」。\r\n",
            "儘管事有湊巧，但一連串事件剛好符合中國對於西方強權試圖阻礙其和平崛起的說法。中方官媒的報導充斥有關美國中情局和其他西方情報單位「伸黑手」，煽動香港動盪，以便施壓北京的指控。\r\n",
            "現在問題是：北京會如何回應？在北大深圳校區任教九年的經濟學教授教鮑爾丁說：「歷史若能為鑒，情況不會太好。不管是持續裝襲作啞或更嚴厲的鎮壓，他們似乎格外無力對既定計畫進行任何調整。」\n",
            "\n",
            "                    加拿大卑詩省最高法院21日宣布，法官下周將公布中國大陸電信巨頭華為財務長孟晚舟是否構成「雙重犯罪」的判決結果，這是孟晚舟...                  \n",
            "                    阿富汗即將與民兵組織塔利班展開和平談判，但政府官員表示，首都喀布爾市中心今天發生爆炸，副總統沙雷車隊遭鎖定攻擊，造成至少...                  \n",
            "                    日本樂桃航空（Peach Aviation）7日一架從北海道釧路機場飛往關西機場的國內線航班，一名男乘客拒戴口罩還在機上...                  \n",
            "                    英國BBC報導，美國當局為打擊中國大陸竊取技術，開始對離境的陸生實施在機場更嚴格檢查。多名陸生和研究員稱，他們在美國各機...                  \n",
            "                    我友邦帛琉已促請美軍在帛琉國土上建立軍事基地，反映出中國大陸在太平洋地區積極擴張勢力之際，帛琉持續與美國保持密切關係。                  \n",
            "                    國際知名飛機彈射椅製造商英國馬丁貝克（Martin-Baker）公司2日在臉書（Facebook）發文並更新大頭貼，將成...                  \n",
            "                    今年第10號颱風海神正朝日本行進，有登陸可能，由於海神持續增強，可能達到造成嚴重災情的「伊勢灣颱風」特別警報等級威力，日...                  \n",
            "                    英國金融時報31日報導，隨著中國大陸對台灣武力威脅日增，美國國防專家、前任官員及國會內部出現更多聲浪，要求華府針對是否在...                  \n",
            "                    日本NHK於28日報導，首相安倍晉三為避免宿疾惡化干擾國家大政，已決定辭職。                  \n",
            "                    俄羅斯總統普亭27日接受國營電視台訪問時表示，他已下令組織一支警察後備部隊，若有必要，將派往白俄羅斯介入平息暴動。                  \n",
            "                    韓國近期爆發第三波疫情，作為今波疫情源頭的首爾城北區「愛第一教會」，其相關病例經已突破840宗。該教會除了有負責牧師兼韓國基督教總聯合會會長全光焄，帶頭違反隔離令外，還有確診信徒於隔離治療期間逃走，引起恐慌。由於事件發生於人口稠密的首都圈，加上該教會年長者比例較高，故當局認為這是較年初異教組織「新天地教會」群組更大的一次危機。\r\n",
            "在外界關注今波疫情的同時，韓國一些保守派教會卻反指控青瓦台違反宗教自由及總統文在寅「反宗教」。這讓人不禁要問，緣何刻下防疫的頭等大事卻在韓國演變成「宗教自由」之爭？                  \n",
            "                    南韓國防部長鄭景斗今天表示，北韓領導人金正恩胞妹、勞動部第一副部長金與正應已在核心權力機關組織指導部掌握大權...\n"
          ],
          "name": "stdout"
        },
        {
          "output_type": "error",
          "ename": "KeyboardInterrupt",
          "evalue": "ignored",
          "traceback": [
            "\u001b[0;31m---------------------------------------------------------------------------\u001b[0m",
            "\u001b[0;31mKeyboardInterrupt\u001b[0m                         Traceback (most recent call last)",
            "\u001b[0;32m<ipython-input-45-4db9903cfc74>\u001b[0m in \u001b[0;36m<module>\u001b[0;34m()\u001b[0m\n\u001b[1;32m      3\u001b[0m \u001b[0mhyperlinkList\u001b[0m \u001b[0;34m=\u001b[0m \u001b[0mdf_addContext\u001b[0m\u001b[0;34m[\u001b[0m\u001b[0;34m'hyperlink'\u001b[0m\u001b[0;34m]\u001b[0m\u001b[0;34m\u001b[0m\u001b[0;34m\u001b[0m\u001b[0m\n\u001b[1;32m      4\u001b[0m \u001b[0;32mfor\u001b[0m \u001b[0mindex\u001b[0m\u001b[0;34m,\u001b[0m \u001b[0murl\u001b[0m \u001b[0;32min\u001b[0m \u001b[0menumerate\u001b[0m\u001b[0;34m(\u001b[0m\u001b[0mtqdm\u001b[0m\u001b[0;34m(\u001b[0m\u001b[0mhyperlinkList\u001b[0m\u001b[0;34m)\u001b[0m\u001b[0;34m)\u001b[0m\u001b[0;34m:\u001b[0m\u001b[0;34m\u001b[0m\u001b[0;34m\u001b[0m\u001b[0m\n\u001b[0;32m----> 5\u001b[0;31m     \u001b[0mtitle\u001b[0m\u001b[0;34m,\u001b[0m \u001b[0marticle\u001b[0m \u001b[0;34m=\u001b[0m \u001b[0mgetContext\u001b[0m\u001b[0;34m(\u001b[0m\u001b[0murl\u001b[0m\u001b[0;34m)\u001b[0m\u001b[0;34m\u001b[0m\u001b[0;34m\u001b[0m\u001b[0m\n\u001b[0m\u001b[1;32m      6\u001b[0m     \u001b[0mprint\u001b[0m\u001b[0;34m(\u001b[0m\u001b[0;34m\"url :\"\u001b[0m\u001b[0;34m,\u001b[0m \u001b[0murl\u001b[0m\u001b[0;34m,\u001b[0m \u001b[0;34m\"\\ncategory :\"\u001b[0m\u001b[0;34m,\u001b[0m \u001b[0mcategory\u001b[0m\u001b[0;34m,\u001b[0m\u001b[0;34m'\\ntitle'\u001b[0m\u001b[0;34m,\u001b[0m \u001b[0mtitle\u001b[0m\u001b[0;34m,\u001b[0m \u001b[0;34m\"\\narticle :\"\u001b[0m\u001b[0;34m,\u001b[0m \u001b[0marticle\u001b[0m\u001b[0;34m)\u001b[0m\u001b[0;34m\u001b[0m\u001b[0;34m\u001b[0m\u001b[0m\n\u001b[1;32m      7\u001b[0m     \u001b[0;31m#contextList.append(context)\u001b[0m\u001b[0;34m\u001b[0m\u001b[0;34m\u001b[0m\u001b[0;34m\u001b[0m\u001b[0m\n",
            "\u001b[0;32m<ipython-input-40-f5216a79f4de>\u001b[0m in \u001b[0;36mgetContext\u001b[0;34m(url)\u001b[0m\n\u001b[1;32m     11\u001b[0m \u001b[0;34m\u001b[0m\u001b[0m\n\u001b[1;32m     12\u001b[0m   \u001b[0;31m# get the news\u001b[0m\u001b[0;34m\u001b[0m\u001b[0;34m\u001b[0m\u001b[0;34m\u001b[0m\u001b[0m\n\u001b[0;32m---> 13\u001b[0;31m   \u001b[0mres\u001b[0m \u001b[0;34m=\u001b[0m \u001b[0mrequests\u001b[0m\u001b[0;34m.\u001b[0m\u001b[0mget\u001b[0m\u001b[0;34m(\u001b[0m\u001b[0;34mf'{url}'\u001b[0m\u001b[0;34m)\u001b[0m\u001b[0;34m\u001b[0m\u001b[0;34m\u001b[0m\u001b[0m\n\u001b[0m\u001b[1;32m     14\u001b[0m   \u001b[0msoup\u001b[0m \u001b[0;34m=\u001b[0m \u001b[0mBeautifulSoup\u001b[0m\u001b[0;34m(\u001b[0m\u001b[0mres\u001b[0m\u001b[0;34m.\u001b[0m\u001b[0mtext\u001b[0m\u001b[0;34m)\u001b[0m\u001b[0;34m\u001b[0m\u001b[0;34m\u001b[0m\u001b[0m\n\u001b[1;32m     15\u001b[0m \u001b[0;34m\u001b[0m\u001b[0m\n",
            "\u001b[0;32m/usr/local/lib/python3.6/dist-packages/requests/api.py\u001b[0m in \u001b[0;36mget\u001b[0;34m(url, params, **kwargs)\u001b[0m\n\u001b[1;32m     74\u001b[0m \u001b[0;34m\u001b[0m\u001b[0m\n\u001b[1;32m     75\u001b[0m     \u001b[0mkwargs\u001b[0m\u001b[0;34m.\u001b[0m\u001b[0msetdefault\u001b[0m\u001b[0;34m(\u001b[0m\u001b[0;34m'allow_redirects'\u001b[0m\u001b[0;34m,\u001b[0m \u001b[0;32mTrue\u001b[0m\u001b[0;34m)\u001b[0m\u001b[0;34m\u001b[0m\u001b[0;34m\u001b[0m\u001b[0m\n\u001b[0;32m---> 76\u001b[0;31m     \u001b[0;32mreturn\u001b[0m \u001b[0mrequest\u001b[0m\u001b[0;34m(\u001b[0m\u001b[0;34m'get'\u001b[0m\u001b[0;34m,\u001b[0m \u001b[0murl\u001b[0m\u001b[0;34m,\u001b[0m \u001b[0mparams\u001b[0m\u001b[0;34m=\u001b[0m\u001b[0mparams\u001b[0m\u001b[0;34m,\u001b[0m \u001b[0;34m**\u001b[0m\u001b[0mkwargs\u001b[0m\u001b[0;34m)\u001b[0m\u001b[0;34m\u001b[0m\u001b[0;34m\u001b[0m\u001b[0m\n\u001b[0m\u001b[1;32m     77\u001b[0m \u001b[0;34m\u001b[0m\u001b[0m\n\u001b[1;32m     78\u001b[0m \u001b[0;34m\u001b[0m\u001b[0m\n",
            "\u001b[0;32m/usr/local/lib/python3.6/dist-packages/requests/api.py\u001b[0m in \u001b[0;36mrequest\u001b[0;34m(method, url, **kwargs)\u001b[0m\n\u001b[1;32m     59\u001b[0m     \u001b[0;31m# cases, and look like a memory leak in others.\u001b[0m\u001b[0;34m\u001b[0m\u001b[0;34m\u001b[0m\u001b[0;34m\u001b[0m\u001b[0m\n\u001b[1;32m     60\u001b[0m     \u001b[0;32mwith\u001b[0m \u001b[0msessions\u001b[0m\u001b[0;34m.\u001b[0m\u001b[0mSession\u001b[0m\u001b[0;34m(\u001b[0m\u001b[0;34m)\u001b[0m \u001b[0;32mas\u001b[0m \u001b[0msession\u001b[0m\u001b[0;34m:\u001b[0m\u001b[0;34m\u001b[0m\u001b[0;34m\u001b[0m\u001b[0m\n\u001b[0;32m---> 61\u001b[0;31m         \u001b[0;32mreturn\u001b[0m \u001b[0msession\u001b[0m\u001b[0;34m.\u001b[0m\u001b[0mrequest\u001b[0m\u001b[0;34m(\u001b[0m\u001b[0mmethod\u001b[0m\u001b[0;34m=\u001b[0m\u001b[0mmethod\u001b[0m\u001b[0;34m,\u001b[0m \u001b[0murl\u001b[0m\u001b[0;34m=\u001b[0m\u001b[0murl\u001b[0m\u001b[0;34m,\u001b[0m \u001b[0;34m**\u001b[0m\u001b[0mkwargs\u001b[0m\u001b[0;34m)\u001b[0m\u001b[0;34m\u001b[0m\u001b[0;34m\u001b[0m\u001b[0m\n\u001b[0m\u001b[1;32m     62\u001b[0m \u001b[0;34m\u001b[0m\u001b[0m\n\u001b[1;32m     63\u001b[0m \u001b[0;34m\u001b[0m\u001b[0m\n",
            "\u001b[0;32m/usr/local/lib/python3.6/dist-packages/requests/sessions.py\u001b[0m in \u001b[0;36mrequest\u001b[0;34m(self, method, url, params, data, headers, cookies, files, auth, timeout, allow_redirects, proxies, hooks, stream, verify, cert, json)\u001b[0m\n\u001b[1;32m    528\u001b[0m         }\n\u001b[1;32m    529\u001b[0m         \u001b[0msend_kwargs\u001b[0m\u001b[0;34m.\u001b[0m\u001b[0mupdate\u001b[0m\u001b[0;34m(\u001b[0m\u001b[0msettings\u001b[0m\u001b[0;34m)\u001b[0m\u001b[0;34m\u001b[0m\u001b[0;34m\u001b[0m\u001b[0m\n\u001b[0;32m--> 530\u001b[0;31m         \u001b[0mresp\u001b[0m \u001b[0;34m=\u001b[0m \u001b[0mself\u001b[0m\u001b[0;34m.\u001b[0m\u001b[0msend\u001b[0m\u001b[0;34m(\u001b[0m\u001b[0mprep\u001b[0m\u001b[0;34m,\u001b[0m \u001b[0;34m**\u001b[0m\u001b[0msend_kwargs\u001b[0m\u001b[0;34m)\u001b[0m\u001b[0;34m\u001b[0m\u001b[0;34m\u001b[0m\u001b[0m\n\u001b[0m\u001b[1;32m    531\u001b[0m \u001b[0;34m\u001b[0m\u001b[0m\n\u001b[1;32m    532\u001b[0m         \u001b[0;32mreturn\u001b[0m \u001b[0mresp\u001b[0m\u001b[0;34m\u001b[0m\u001b[0;34m\u001b[0m\u001b[0m\n",
            "\u001b[0;32m/usr/local/lib/python3.6/dist-packages/requests/sessions.py\u001b[0m in \u001b[0;36msend\u001b[0;34m(self, request, **kwargs)\u001b[0m\n\u001b[1;32m    641\u001b[0m \u001b[0;34m\u001b[0m\u001b[0m\n\u001b[1;32m    642\u001b[0m         \u001b[0;31m# Send the request\u001b[0m\u001b[0;34m\u001b[0m\u001b[0;34m\u001b[0m\u001b[0;34m\u001b[0m\u001b[0m\n\u001b[0;32m--> 643\u001b[0;31m         \u001b[0mr\u001b[0m \u001b[0;34m=\u001b[0m \u001b[0madapter\u001b[0m\u001b[0;34m.\u001b[0m\u001b[0msend\u001b[0m\u001b[0;34m(\u001b[0m\u001b[0mrequest\u001b[0m\u001b[0;34m,\u001b[0m \u001b[0;34m**\u001b[0m\u001b[0mkwargs\u001b[0m\u001b[0;34m)\u001b[0m\u001b[0;34m\u001b[0m\u001b[0;34m\u001b[0m\u001b[0m\n\u001b[0m\u001b[1;32m    644\u001b[0m \u001b[0;34m\u001b[0m\u001b[0m\n\u001b[1;32m    645\u001b[0m         \u001b[0;31m# Total elapsed time of the request (approximately)\u001b[0m\u001b[0;34m\u001b[0m\u001b[0;34m\u001b[0m\u001b[0;34m\u001b[0m\u001b[0m\n",
            "\u001b[0;32m/usr/local/lib/python3.6/dist-packages/requests/adapters.py\u001b[0m in \u001b[0;36msend\u001b[0;34m(self, request, stream, timeout, verify, cert, proxies)\u001b[0m\n\u001b[1;32m    447\u001b[0m                     \u001b[0mdecode_content\u001b[0m\u001b[0;34m=\u001b[0m\u001b[0;32mFalse\u001b[0m\u001b[0;34m,\u001b[0m\u001b[0;34m\u001b[0m\u001b[0;34m\u001b[0m\u001b[0m\n\u001b[1;32m    448\u001b[0m                     \u001b[0mretries\u001b[0m\u001b[0;34m=\u001b[0m\u001b[0mself\u001b[0m\u001b[0;34m.\u001b[0m\u001b[0mmax_retries\u001b[0m\u001b[0;34m,\u001b[0m\u001b[0;34m\u001b[0m\u001b[0;34m\u001b[0m\u001b[0m\n\u001b[0;32m--> 449\u001b[0;31m                     \u001b[0mtimeout\u001b[0m\u001b[0;34m=\u001b[0m\u001b[0mtimeout\u001b[0m\u001b[0;34m\u001b[0m\u001b[0;34m\u001b[0m\u001b[0m\n\u001b[0m\u001b[1;32m    450\u001b[0m                 )\n\u001b[1;32m    451\u001b[0m \u001b[0;34m\u001b[0m\u001b[0m\n",
            "\u001b[0;32m/usr/local/lib/python3.6/dist-packages/urllib3/connectionpool.py\u001b[0m in \u001b[0;36murlopen\u001b[0;34m(self, method, url, body, headers, retries, redirect, assert_same_host, timeout, pool_timeout, release_conn, chunked, body_pos, **response_kw)\u001b[0m\n\u001b[1;32m    598\u001b[0m                                                   \u001b[0mtimeout\u001b[0m\u001b[0;34m=\u001b[0m\u001b[0mtimeout_obj\u001b[0m\u001b[0;34m,\u001b[0m\u001b[0;34m\u001b[0m\u001b[0;34m\u001b[0m\u001b[0m\n\u001b[1;32m    599\u001b[0m                                                   \u001b[0mbody\u001b[0m\u001b[0;34m=\u001b[0m\u001b[0mbody\u001b[0m\u001b[0;34m,\u001b[0m \u001b[0mheaders\u001b[0m\u001b[0;34m=\u001b[0m\u001b[0mheaders\u001b[0m\u001b[0;34m,\u001b[0m\u001b[0;34m\u001b[0m\u001b[0;34m\u001b[0m\u001b[0m\n\u001b[0;32m--> 600\u001b[0;31m                                                   chunked=chunked)\n\u001b[0m\u001b[1;32m    601\u001b[0m \u001b[0;34m\u001b[0m\u001b[0m\n\u001b[1;32m    602\u001b[0m             \u001b[0;31m# If we're going to release the connection in ``finally:``, then\u001b[0m\u001b[0;34m\u001b[0m\u001b[0;34m\u001b[0m\u001b[0;34m\u001b[0m\u001b[0m\n",
            "\u001b[0;32m/usr/local/lib/python3.6/dist-packages/urllib3/connectionpool.py\u001b[0m in \u001b[0;36m_make_request\u001b[0;34m(self, conn, method, url, timeout, chunked, **httplib_request_kw)\u001b[0m\n\u001b[1;32m    341\u001b[0m         \u001b[0;31m# Trigger any extra validation we need to do.\u001b[0m\u001b[0;34m\u001b[0m\u001b[0;34m\u001b[0m\u001b[0;34m\u001b[0m\u001b[0m\n\u001b[1;32m    342\u001b[0m         \u001b[0;32mtry\u001b[0m\u001b[0;34m:\u001b[0m\u001b[0;34m\u001b[0m\u001b[0;34m\u001b[0m\u001b[0m\n\u001b[0;32m--> 343\u001b[0;31m             \u001b[0mself\u001b[0m\u001b[0;34m.\u001b[0m\u001b[0m_validate_conn\u001b[0m\u001b[0;34m(\u001b[0m\u001b[0mconn\u001b[0m\u001b[0;34m)\u001b[0m\u001b[0;34m\u001b[0m\u001b[0;34m\u001b[0m\u001b[0m\n\u001b[0m\u001b[1;32m    344\u001b[0m         \u001b[0;32mexcept\u001b[0m \u001b[0;34m(\u001b[0m\u001b[0mSocketTimeout\u001b[0m\u001b[0;34m,\u001b[0m \u001b[0mBaseSSLError\u001b[0m\u001b[0;34m)\u001b[0m \u001b[0;32mas\u001b[0m \u001b[0me\u001b[0m\u001b[0;34m:\u001b[0m\u001b[0;34m\u001b[0m\u001b[0;34m\u001b[0m\u001b[0m\n\u001b[1;32m    345\u001b[0m             \u001b[0;31m# Py2 raises this as a BaseSSLError, Py3 raises it as socket timeout.\u001b[0m\u001b[0;34m\u001b[0m\u001b[0;34m\u001b[0m\u001b[0;34m\u001b[0m\u001b[0m\n",
            "\u001b[0;32m/usr/local/lib/python3.6/dist-packages/urllib3/connectionpool.py\u001b[0m in \u001b[0;36m_validate_conn\u001b[0;34m(self, conn)\u001b[0m\n\u001b[1;32m    837\u001b[0m         \u001b[0;31m# Force connect early to allow us to validate the connection.\u001b[0m\u001b[0;34m\u001b[0m\u001b[0;34m\u001b[0m\u001b[0;34m\u001b[0m\u001b[0m\n\u001b[1;32m    838\u001b[0m         \u001b[0;32mif\u001b[0m \u001b[0;32mnot\u001b[0m \u001b[0mgetattr\u001b[0m\u001b[0;34m(\u001b[0m\u001b[0mconn\u001b[0m\u001b[0;34m,\u001b[0m \u001b[0;34m'sock'\u001b[0m\u001b[0;34m,\u001b[0m \u001b[0;32mNone\u001b[0m\u001b[0;34m)\u001b[0m\u001b[0;34m:\u001b[0m  \u001b[0;31m# AppEngine might not have  `.sock`\u001b[0m\u001b[0;34m\u001b[0m\u001b[0;34m\u001b[0m\u001b[0m\n\u001b[0;32m--> 839\u001b[0;31m             \u001b[0mconn\u001b[0m\u001b[0;34m.\u001b[0m\u001b[0mconnect\u001b[0m\u001b[0;34m(\u001b[0m\u001b[0;34m)\u001b[0m\u001b[0;34m\u001b[0m\u001b[0;34m\u001b[0m\u001b[0m\n\u001b[0m\u001b[1;32m    840\u001b[0m \u001b[0;34m\u001b[0m\u001b[0m\n\u001b[1;32m    841\u001b[0m         \u001b[0;32mif\u001b[0m \u001b[0;32mnot\u001b[0m \u001b[0mconn\u001b[0m\u001b[0;34m.\u001b[0m\u001b[0mis_verified\u001b[0m\u001b[0;34m:\u001b[0m\u001b[0;34m\u001b[0m\u001b[0;34m\u001b[0m\u001b[0m\n",
            "\u001b[0;32m/usr/local/lib/python3.6/dist-packages/urllib3/connection.py\u001b[0m in \u001b[0;36mconnect\u001b[0;34m(self)\u001b[0m\n\u001b[1;32m    342\u001b[0m             \u001b[0mca_cert_dir\u001b[0m\u001b[0;34m=\u001b[0m\u001b[0mself\u001b[0m\u001b[0;34m.\u001b[0m\u001b[0mca_cert_dir\u001b[0m\u001b[0;34m,\u001b[0m\u001b[0;34m\u001b[0m\u001b[0;34m\u001b[0m\u001b[0m\n\u001b[1;32m    343\u001b[0m             \u001b[0mserver_hostname\u001b[0m\u001b[0;34m=\u001b[0m\u001b[0mserver_hostname\u001b[0m\u001b[0;34m,\u001b[0m\u001b[0;34m\u001b[0m\u001b[0;34m\u001b[0m\u001b[0m\n\u001b[0;32m--> 344\u001b[0;31m             ssl_context=context)\n\u001b[0m\u001b[1;32m    345\u001b[0m \u001b[0;34m\u001b[0m\u001b[0m\n\u001b[1;32m    346\u001b[0m         \u001b[0;32mif\u001b[0m \u001b[0mself\u001b[0m\u001b[0;34m.\u001b[0m\u001b[0massert_fingerprint\u001b[0m\u001b[0;34m:\u001b[0m\u001b[0;34m\u001b[0m\u001b[0;34m\u001b[0m\u001b[0m\n",
            "\u001b[0;32m/usr/local/lib/python3.6/dist-packages/urllib3/util/ssl_.py\u001b[0m in \u001b[0;36mssl_wrap_socket\u001b[0;34m(sock, keyfile, certfile, cert_reqs, ca_certs, server_hostname, ssl_version, ciphers, ssl_context, ca_cert_dir)\u001b[0m\n\u001b[1;32m    343\u001b[0m             or IS_SECURETRANSPORT):\n\u001b[1;32m    344\u001b[0m         \u001b[0;32mif\u001b[0m \u001b[0mHAS_SNI\u001b[0m \u001b[0;32mand\u001b[0m \u001b[0mserver_hostname\u001b[0m \u001b[0;32mis\u001b[0m \u001b[0;32mnot\u001b[0m \u001b[0;32mNone\u001b[0m\u001b[0;34m:\u001b[0m\u001b[0;34m\u001b[0m\u001b[0;34m\u001b[0m\u001b[0m\n\u001b[0;32m--> 345\u001b[0;31m             \u001b[0;32mreturn\u001b[0m \u001b[0mcontext\u001b[0m\u001b[0;34m.\u001b[0m\u001b[0mwrap_socket\u001b[0m\u001b[0;34m(\u001b[0m\u001b[0msock\u001b[0m\u001b[0;34m,\u001b[0m \u001b[0mserver_hostname\u001b[0m\u001b[0;34m=\u001b[0m\u001b[0mserver_hostname\u001b[0m\u001b[0;34m)\u001b[0m\u001b[0;34m\u001b[0m\u001b[0;34m\u001b[0m\u001b[0m\n\u001b[0m\u001b[1;32m    346\u001b[0m \u001b[0;34m\u001b[0m\u001b[0m\n\u001b[1;32m    347\u001b[0m         warnings.warn(\n",
            "\u001b[0;32m/usr/lib/python3.6/ssl.py\u001b[0m in \u001b[0;36mwrap_socket\u001b[0;34m(self, sock, server_side, do_handshake_on_connect, suppress_ragged_eofs, server_hostname, session)\u001b[0m\n\u001b[1;32m    405\u001b[0m                          \u001b[0msuppress_ragged_eofs\u001b[0m\u001b[0;34m=\u001b[0m\u001b[0msuppress_ragged_eofs\u001b[0m\u001b[0;34m,\u001b[0m\u001b[0;34m\u001b[0m\u001b[0;34m\u001b[0m\u001b[0m\n\u001b[1;32m    406\u001b[0m                          \u001b[0mserver_hostname\u001b[0m\u001b[0;34m=\u001b[0m\u001b[0mserver_hostname\u001b[0m\u001b[0;34m,\u001b[0m\u001b[0;34m\u001b[0m\u001b[0;34m\u001b[0m\u001b[0m\n\u001b[0;32m--> 407\u001b[0;31m                          _context=self, _session=session)\n\u001b[0m\u001b[1;32m    408\u001b[0m \u001b[0;34m\u001b[0m\u001b[0m\n\u001b[1;32m    409\u001b[0m     def wrap_bio(self, incoming, outgoing, server_side=False,\n",
            "\u001b[0;32m/usr/lib/python3.6/ssl.py\u001b[0m in \u001b[0;36m__init__\u001b[0;34m(self, sock, keyfile, certfile, server_side, cert_reqs, ssl_version, ca_certs, do_handshake_on_connect, family, type, proto, fileno, suppress_ragged_eofs, npn_protocols, ciphers, server_hostname, _context, _session)\u001b[0m\n\u001b[1;32m    815\u001b[0m                         \u001b[0;31m# non-blocking\u001b[0m\u001b[0;34m\u001b[0m\u001b[0;34m\u001b[0m\u001b[0;34m\u001b[0m\u001b[0m\n\u001b[1;32m    816\u001b[0m                         \u001b[0;32mraise\u001b[0m \u001b[0mValueError\u001b[0m\u001b[0;34m(\u001b[0m\u001b[0;34m\"do_handshake_on_connect should not be specified for non-blocking sockets\"\u001b[0m\u001b[0;34m)\u001b[0m\u001b[0;34m\u001b[0m\u001b[0;34m\u001b[0m\u001b[0m\n\u001b[0;32m--> 817\u001b[0;31m                     \u001b[0mself\u001b[0m\u001b[0;34m.\u001b[0m\u001b[0mdo_handshake\u001b[0m\u001b[0;34m(\u001b[0m\u001b[0;34m)\u001b[0m\u001b[0;34m\u001b[0m\u001b[0;34m\u001b[0m\u001b[0m\n\u001b[0m\u001b[1;32m    818\u001b[0m \u001b[0;34m\u001b[0m\u001b[0m\n\u001b[1;32m    819\u001b[0m             \u001b[0;32mexcept\u001b[0m \u001b[0;34m(\u001b[0m\u001b[0mOSError\u001b[0m\u001b[0;34m,\u001b[0m \u001b[0mValueError\u001b[0m\u001b[0;34m)\u001b[0m\u001b[0;34m:\u001b[0m\u001b[0;34m\u001b[0m\u001b[0;34m\u001b[0m\u001b[0m\n",
            "\u001b[0;32m/usr/lib/python3.6/ssl.py\u001b[0m in \u001b[0;36mdo_handshake\u001b[0;34m(self, block)\u001b[0m\n\u001b[1;32m   1075\u001b[0m             \u001b[0;32mif\u001b[0m \u001b[0mtimeout\u001b[0m \u001b[0;34m==\u001b[0m \u001b[0;36m0.0\u001b[0m \u001b[0;32mand\u001b[0m \u001b[0mblock\u001b[0m\u001b[0;34m:\u001b[0m\u001b[0;34m\u001b[0m\u001b[0;34m\u001b[0m\u001b[0m\n\u001b[1;32m   1076\u001b[0m                 \u001b[0mself\u001b[0m\u001b[0;34m.\u001b[0m\u001b[0msettimeout\u001b[0m\u001b[0;34m(\u001b[0m\u001b[0;32mNone\u001b[0m\u001b[0;34m)\u001b[0m\u001b[0;34m\u001b[0m\u001b[0;34m\u001b[0m\u001b[0m\n\u001b[0;32m-> 1077\u001b[0;31m             \u001b[0mself\u001b[0m\u001b[0;34m.\u001b[0m\u001b[0m_sslobj\u001b[0m\u001b[0;34m.\u001b[0m\u001b[0mdo_handshake\u001b[0m\u001b[0;34m(\u001b[0m\u001b[0;34m)\u001b[0m\u001b[0;34m\u001b[0m\u001b[0;34m\u001b[0m\u001b[0m\n\u001b[0m\u001b[1;32m   1078\u001b[0m         \u001b[0;32mfinally\u001b[0m\u001b[0;34m:\u001b[0m\u001b[0;34m\u001b[0m\u001b[0;34m\u001b[0m\u001b[0m\n\u001b[1;32m   1079\u001b[0m             \u001b[0mself\u001b[0m\u001b[0;34m.\u001b[0m\u001b[0msettimeout\u001b[0m\u001b[0;34m(\u001b[0m\u001b[0mtimeout\u001b[0m\u001b[0;34m)\u001b[0m\u001b[0;34m\u001b[0m\u001b[0;34m\u001b[0m\u001b[0m\n",
            "\u001b[0;32m/usr/lib/python3.6/ssl.py\u001b[0m in \u001b[0;36mdo_handshake\u001b[0;34m(self)\u001b[0m\n\u001b[1;32m    687\u001b[0m     \u001b[0;32mdef\u001b[0m \u001b[0mdo_handshake\u001b[0m\u001b[0;34m(\u001b[0m\u001b[0mself\u001b[0m\u001b[0;34m)\u001b[0m\u001b[0;34m:\u001b[0m\u001b[0;34m\u001b[0m\u001b[0;34m\u001b[0m\u001b[0m\n\u001b[1;32m    688\u001b[0m         \u001b[0;34m\"\"\"Start the SSL/TLS handshake.\"\"\"\u001b[0m\u001b[0;34m\u001b[0m\u001b[0;34m\u001b[0m\u001b[0m\n\u001b[0;32m--> 689\u001b[0;31m         \u001b[0mself\u001b[0m\u001b[0;34m.\u001b[0m\u001b[0m_sslobj\u001b[0m\u001b[0;34m.\u001b[0m\u001b[0mdo_handshake\u001b[0m\u001b[0;34m(\u001b[0m\u001b[0;34m)\u001b[0m\u001b[0;34m\u001b[0m\u001b[0;34m\u001b[0m\u001b[0m\n\u001b[0m\u001b[1;32m    690\u001b[0m         \u001b[0;32mif\u001b[0m \u001b[0mself\u001b[0m\u001b[0;34m.\u001b[0m\u001b[0mcontext\u001b[0m\u001b[0;34m.\u001b[0m\u001b[0mcheck_hostname\u001b[0m\u001b[0;34m:\u001b[0m\u001b[0;34m\u001b[0m\u001b[0;34m\u001b[0m\u001b[0m\n\u001b[1;32m    691\u001b[0m             \u001b[0;32mif\u001b[0m \u001b[0;32mnot\u001b[0m \u001b[0mself\u001b[0m\u001b[0;34m.\u001b[0m\u001b[0mserver_hostname\u001b[0m\u001b[0;34m:\u001b[0m\u001b[0;34m\u001b[0m\u001b[0;34m\u001b[0m\u001b[0m\n",
            "\u001b[0;31mKeyboardInterrupt\u001b[0m: "
          ]
        }
      ]
    },
    {
      "cell_type": "code",
      "metadata": {
        "tags": [],
        "id": "S1XkQk-cuk-P",
        "colab_type": "code",
        "colab": {},
        "outputId": "5c474b77-86d5-4ce2-ac4d-31815be0a10b"
      },
      "source": [
        "df_addContext[\"content_c\"] = \"\"\n",
        "for index, text in enumerate(tqdm(contextList)):\n",
        "    df_addContext.at[index, \"content_c\"] = text"
      ],
      "execution_count": null,
      "outputs": [
        {
          "output_type": "stream",
          "text": [
            "100%|██████████| 5023/5023 [00:00<00:00, 125713.74it/s]\n"
          ],
          "name": "stderr"
        }
      ]
    },
    {
      "cell_type": "code",
      "metadata": {
        "id": "WMv8fw5zuk-R",
        "colab_type": "code",
        "colab": {}
      },
      "source": [
        "df_addContext.to_csv('./data/Result.csv')"
      ],
      "execution_count": null,
      "outputs": []
    }
  ]
}