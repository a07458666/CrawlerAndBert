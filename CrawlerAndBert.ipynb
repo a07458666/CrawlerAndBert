{
 "cells": [
  {
   "cell_type": "code",
   "execution_count": 1,
   "metadata": {},
   "outputs": [],
   "source": [
    "import requests\n",
    "from bs4 import BeautifulSoup\n",
    "import io\n",
    "import time\n",
    "import re\n",
    "import pandas as pd"
   ]
  },
  {
   "cell_type": "code",
   "execution_count": 2,
   "metadata": {},
   "outputs": [],
   "source": [
    "def sleeptime(hore,min,sec):\n",
    "    return hore * 3600 + min * 60 + sec"
   ]
  },
  {
   "cell_type": "code",
   "execution_count": 3,
   "metadata": {},
   "outputs": [
    {
     "output_type": "stream",
     "name": "stdout",
     "text": "200\n"
    }
   ],
   "source": [
    "url = \"https://www.dcard.tw/f\"\n",
    "headers = {'User-Agent':'Mozilla/5.0(Windows NT 10.0;Win64;x64)AppleWebKit / 537.36 Chrome / 70.0.3538.102 Safari / 537.36'} \n",
    "resp = requests.get(url, headers = headers)\n",
    "print(resp.status_code)"
   ]
  },
  {
   "cell_type": "code",
   "execution_count": 8,
   "metadata": {},
   "outputs": [
    {
     "output_type": "stream",
     "name": "stdout",
     "text": "0. #半熟大人交朋友  Lulu 黃路梓茵：我的人生就是一個「超前部署」\n1. 在交友軟體上遇到親姐……？\n2. 穿著比較露的衣服爭議\n3. 時尚界震撼彈GUCCI宣布退出時裝週\n4. 高清無碼😎（內有照片）\n5. 終於見到卡友了~\n6. 女宿外有人趴在欄杆上偷看\n7. 年輕的雞（？？？？？\n8. 胸部下擠出巨型粉刺\n9. 星巴克美人魚試喝結果？！\n10. 美咖真的無所不用其極欸\n11. 只有我覺得Miyeon瀏海超正嗎\n12. 當8＋9其實真的很爽\n13. 這樣拒絕還不夠明顯嗎\n14. 求救～～背心裡面內衣要怎麼穿\n15. 女友是全世界最機掰的生物\n16. 8+9最愛的食物\n17. #台中#黑特#第一次做美甲做到滿手傷痕\n18. 圭賢啊~這14年來辛苦啦☺️\n19. <0528*更+抱歉,原意純屬分享> 一些讀書帳的日常\n20. 閨蜜要我丟了我的比基尼\n21. 壓麵包很奇怪？\n22. 關於醫生的口頭禪\n23. 喜歡警察制服的人是什麼感覺\n24. 佈置風格分享｜乾淨木質調🕰\n25. #更 SEULGI X IRENE 6/15 MONSTER 出道\n26. 不小心看到男友電腦裡的大奶妹\n27. Netflix真的很雷嗎？\n28. 朋奉哥答應「浪子回頭」，合作夥伴：永遠忘不了\n29. #分享 三個月過後我的臉幾乎恢復啦( ´▽` )ﾉ\n"
    }
   ],
   "source": [
    "soup = BeautifulSoup(resp.text, 'html.parser')\n",
    "dcard_title = soup.find_all('a', re.compile('sc-1v1d5rx-3 kPUUNB'))\n",
    "dcard_title_s = []\n",
    "for i, title in enumerate(dcard_title):\n",
    "    print(str(i) + \". \" + title.span.string)\n",
    "    dcard_title_s.append(title.span.string)"
   ]
  },
  {
   "cell_type": "code",
   "execution_count": 9,
   "metadata": {},
   "outputs": [
    {
     "output_type": "stream",
     "name": "stdout",
     "text": "PyTorch 版本： 1.3.1\n"
    }
   ],
   "source": [
    "import torch\n",
    "from transformers import BertTokenizer\n",
    "from IPython.display import clear_output\n",
    "from transformers import BertForMaskedLM\n",
    "\n",
    "PRETRAINED_MODEL_NAME = \"bert-base-chinese\"  # 指定繁簡中文 BERT-BASE 預訓練模型\n",
    "\n",
    "# 取得此預訓練模型所使用的 tokenizer\n",
    "tokenizer = BertTokenizer.from_pretrained(PRETRAINED_MODEL_NAME)\n",
    "\n",
    "clear_output()\n",
    "print(\"PyTorch 版本：\", torch.__version__)"
   ]
  },
  {
   "cell_type": "code",
   "execution_count": 10,
   "metadata": {},
   "outputs": [
    {
     "output_type": "stream",
     "name": "stdout",
     "text": "21128\n"
    }
   ],
   "source": [
    "vocab = tokenizer.vocab\n",
    "print(len(vocab))"
   ]
  },
  {
   "cell_type": "code",
   "execution_count": 11,
   "metadata": {},
   "outputs": [
    {
     "output_type": "stream",
     "name": "stdout",
     "text": "當8＋9其實真的很爽\n['當', '8', '##＋', '##9', '其', '[MASK]', '真', '的', '很', '爽'] ...\n[4534, 129, 11267, 8160, 1071, 103, 4696, 4638, 2523, 4272] ...\n"
    }
   ],
   "source": [
    "text = dcard_title_s[12]\n",
    "print(text)\n",
    "tokens = tokenizer.tokenize(text)\n",
    "ids = tokenizer.convert_tokens_to_ids(tokens)\n",
    "tokens[5] = '[MASK]'\n",
    "ids[5] = 103\n",
    "print(tokens[:20], '...')\n",
    "print(ids[:20], '...')\n",
    ""
   ]
  },
  {
   "cell_type": "code",
   "execution_count": 12,
   "metadata": {},
   "outputs": [],
   "source": [
    "tokens_tensor = torch.tensor([ids])\n",
    "segments_tensors = torch.zeros_like(tokens_tensor)  # (1, seq_len)\n",
    "maskedLM_model = BertForMaskedLM.from_pretrained(PRETRAINED_MODEL_NAME)\n",
    "clear_output()"
   ]
  },
  {
   "cell_type": "code",
   "execution_count": 13,
   "metadata": {},
   "outputs": [],
   "source": [
    "maskedLM_model.eval()\n",
    "with torch.no_grad():\n",
    "    outputs = maskedLM_model(tokens_tensor, segments_tensors)\n",
    "    predictions = outputs[0]\n",
    "del maskedLM_model"
   ]
  },
  {
   "cell_type": "code",
   "execution_count": 14,
   "metadata": {},
   "outputs": [
    {
     "output_type": "stream",
     "name": "stdout",
     "text": "輸入 tokens ： ['當', '8', '##＋', '##9', '其', '[MASK]', '真', '的', '很', '爽'] ...\n--------------------------------------------------\nTop 1 (82%)：['當', '8', '##＋', '##9', '其', '實', '真', '的', '很', '爽'] ...\nTop 2 ( 5%)：['當', '8', '##＋', '##9', '其', '後', '真', '的', '很', '爽'] ...\nTop 3 ( 3%)：['當', '8', '##＋', '##9', '其', '中', '真', '的', '很', '爽'] ...\nTop 4 ( 0%)：['當', '8', '##＋', '##9', '其', '上', '真', '的', '很', '爽'] ...\nTop 5 ( 0%)：['當', '8', '##＋', '##9', '其', '后', '真', '的', '很', '爽'] ...\n"
    }
   ],
   "source": [
    "# 將 [MASK] 位置的機率分佈取 top k 最有可能的 tokens 出來\n",
    "masked_index = 5\n",
    "k = 5\n",
    "probs, indices = torch.topk(torch.softmax(predictions[0, masked_index], -1), k)\n",
    "predicted_tokens = tokenizer.convert_ids_to_tokens(indices.tolist())\n",
    "\n",
    "# 顯示 top k 可能的字。一般我們就是取 top 1 當作預測值\n",
    "print(\"輸入 tokens ：\", tokens[:10], '...')\n",
    "print('-' * 50)\n",
    "for i, (t, p) in enumerate(zip(predicted_tokens, probs), 1):\n",
    "    tokens[masked_index] = t\n",
    "    print(\"Top {} ({:2}%)：{}\".format(i, int(p.item() * 100), tokens[:10]), '...')"
   ]
  },
  {
   "cell_type": "code",
   "execution_count": null,
   "metadata": {},
   "outputs": [],
   "source": []
  }
 ],
 "metadata": {
  "language_info": {
   "name": "python",
   "codemirror_mode": {
    "name": "ipython",
    "version": 3
   },
   "version": "3.7.4-final"
  },
  "orig_nbformat": 2,
  "file_extension": ".py",
  "mimetype": "text/x-python",
  "name": "python",
  "npconvert_exporter": "python",
  "pygments_lexer": "ipython3",
  "version": 3,
  "kernelspec": {
   "name": "python37464bitandysuvirtualenv3d81237157b54bc697c4b1ffd4417a26",
   "display_name": "Python 3.7.4 64-bit ('AndySu': virtualenv)"
  }
 },
 "nbformat": 4,
 "nbformat_minor": 2
}